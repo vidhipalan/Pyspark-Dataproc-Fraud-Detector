{
 "cells": [
  {
   "cell_type": "markdown",
   "metadata": {
    "application/vnd.databricks.v1+cell": {
     "cellMetadata": {
      "byteLimit": 2048000,
      "rowLimit": 10000
     },
     "inputWidgets": {},
     "nuid": "5f6dd85a-7e2b-4808-b378-5914c5b725e1",
     "showTitle": false,
     "tableResultSettingsMap": {},
     "title": ""
    }
   },
   "source": [
    "#Project: Spark Sherlock\n",
    "#Name: Vidhi Ashok Palan, Pooja, Pratik Kale"
   ]
  },
  {
   "cell_type": "code",
   "execution_count": 0,
   "metadata": {
    "application/vnd.databricks.v1+cell": {
     "cellMetadata": {
      "byteLimit": 2048000,
      "rowLimit": 10000
     },
     "inputWidgets": {},
     "nuid": "d73266a2-92a1-4e65-b221-aa927cffa9af",
     "showTitle": false,
     "tableResultSettingsMap": {},
     "title": ""
    }
   },
   "outputs": [],
   "source": [
    "import mlflow\n",
    "import mlflow.spark\n",
    "from pyspark.sql import SparkSession\n",
    "from pyspark.sql.functions import col\n",
    "from pyspark.ml.feature import StringIndexer, OneHotEncoder, VectorAssembler\n",
    "import matplotlib.pyplot as plt\n",
    "import seaborn as sns\n",
    "df = spark.read.csv(\"/FileStore/tables/Synthetic_Financial_datasets_log.csv\", header=True, inferSchema=True)\n"
   ]
  },
  {
   "cell_type": "code",
   "execution_count": 0,
   "metadata": {
    "application/vnd.databricks.v1+cell": {
     "cellMetadata": {
      "byteLimit": 2048000,
      "rowLimit": 10000
     },
     "inputWidgets": {},
     "nuid": "80e28581-bebb-486b-ab08-e0418910f385",
     "showTitle": false,
     "tableResultSettingsMap": {},
     "title": ""
    }
   },
   "outputs": [
    {
     "output_type": "stream",
     "name": "stdout",
     "output_type": "stream",
     "text": [
      "Number of rows: 6362620\nroot\n |-- step: integer (nullable = true)\n |-- type: string (nullable = true)\n |-- amount: double (nullable = true)\n |-- nameOrig: string (nullable = true)\n |-- oldbalanceOrg: double (nullable = true)\n |-- newbalanceOrig: double (nullable = true)\n |-- nameDest: string (nullable = true)\n |-- oldbalanceDest: double (nullable = true)\n |-- newbalanceDest: double (nullable = true)\n |-- isFraud: integer (nullable = true)\n |-- isFlaggedFraud: integer (nullable = true)\n\n"
     ]
    }
   ],
   "source": [
    "print(\"Number of rows:\", df.count())\n",
    "df.printSchema()\n"
   ]
  },
  {
   "cell_type": "code",
   "execution_count": 0,
   "metadata": {
    "application/vnd.databricks.v1+cell": {
     "cellMetadata": {
      "byteLimit": 2048000,
      "rowLimit": 10000
     },
     "inputWidgets": {},
     "nuid": "6e4cc13f-709c-4836-9aa5-c5188eaf37e1",
     "showTitle": false,
     "tableResultSettingsMap": {},
     "title": ""
    }
   },
   "outputs": [
    {
     "output_type": "stream",
     "name": "stdout",
     "output_type": "stream",
     "text": [
      "+-------+-------+\n|isFraud|  count|\n+-------+-------+\n|      1|   8213|\n|      0|6354407|\n+-------+-------+\n\n+--------------+-------+\n|isFlaggedFraud|  count|\n+--------------+-------+\n|             0|6362604|\n|             1|     16|\n+--------------+-------+\n\n"
     ]
    }
   ],
   "source": [
    "df.groupBy(\"isFraud\").count().show()\n",
    "df.groupBy(\"isFlaggedFraud\").count().show()"
   ]
  },
  {
   "cell_type": "code",
   "execution_count": 0,
   "metadata": {
    "application/vnd.databricks.v1+cell": {
     "cellMetadata": {
      "byteLimit": 2048000,
      "rowLimit": 10000
     },
     "inputWidgets": {},
     "nuid": "fe3e35aa-291c-4886-a641-b053df1e6932",
     "showTitle": false,
     "tableResultSettingsMap": {},
     "title": ""
    }
   },
   "outputs": [],
   "source": [
    "df_new = df.drop(\"nameOrig\", \"nameDest\", \"isFlaggedFraud\", \"step\")\n"
   ]
  },
  {
   "cell_type": "code",
   "execution_count": 0,
   "metadata": {
    "application/vnd.databricks.v1+cell": {
     "cellMetadata": {
      "byteLimit": 2048000,
      "rowLimit": 10000
     },
     "inputWidgets": {},
     "nuid": "3607a485-5662-479e-bb32-215fb90b888a",
     "showTitle": false,
     "tableResultSettingsMap": {},
     "title": ""
    }
   },
   "outputs": [],
   "source": [
    "df_new = df_new.withColumn(\"deltaOrig\", col(\"oldbalanceOrg\") - col(\"newbalanceOrig\")) \\\n",
    "               .withColumn(\"deltaDest\", col(\"newbalanceDest\") - col(\"oldbalanceDest\")) \\\n",
    "               .withColumn(\"amount_to_orig_ratio\", col(\"amount\") / (col(\"oldbalanceOrg\") + 1)) \\\n",
    "               .withColumn(\"amount_to_dest_ratio\", col(\"amount\") / (col(\"oldbalanceDest\") + 1))\n"
   ]
  },
  {
   "cell_type": "code",
   "execution_count": 0,
   "metadata": {
    "application/vnd.databricks.v1+cell": {
     "cellMetadata": {
      "byteLimit": 2048000,
      "rowLimit": 10000
     },
     "inputWidgets": {},
     "nuid": "1ccd38b0-6841-40f4-b876-78ba9af4b327",
     "showTitle": false,
     "tableResultSettingsMap": {},
     "title": ""
    }
   },
   "outputs": [],
   "source": [
    "indexer = StringIndexer(inputCol=\"type\", outputCol=\"type_indexed\", handleInvalid=\"keep\")\n",
    "df_new = indexer.fit(df_new).transform(df_new)"
   ]
  },
  {
   "cell_type": "code",
   "execution_count": 0,
   "metadata": {
    "application/vnd.databricks.v1+cell": {
     "cellMetadata": {
      "byteLimit": 2048000,
      "rowLimit": 10000
     },
     "inputWidgets": {},
     "nuid": "3c07948a-abbf-4d82-9d27-9604419c2138",
     "showTitle": false,
     "tableResultSettingsMap": {},
     "title": ""
    }
   },
   "outputs": [
    {
     "output_type": "stream",
     "name": "stdout",
     "output_type": "stream",
     "text": [
      "+-------+--------+------------+-------------+\n|isFraud|    type|type_indexed|     type_vec|\n+-------+--------+------------+-------------+\n|      0| PAYMENT|         1.0|(5,[1],[1.0])|\n|      0| PAYMENT|         1.0|(5,[1],[1.0])|\n|      1|TRANSFER|         3.0|(5,[3],[1.0])|\n|      1|CASH_OUT|         0.0|(5,[0],[1.0])|\n|      0| PAYMENT|         1.0|(5,[1],[1.0])|\n+-------+--------+------------+-------------+\nonly showing top 5 rows\n\nOut[14]: ['type',\n 'amount',\n 'oldbalanceOrg',\n 'newbalanceOrig',\n 'oldbalanceDest',\n 'newbalanceDest',\n 'isFraud',\n 'deltaOrig',\n 'deltaDest',\n 'amount_to_orig_ratio',\n 'amount_to_dest_ratio',\n 'type_indexed',\n 'type_vec']"
     ]
    }
   ],
   "source": [
    "encoder = OneHotEncoder(inputCols=[\"type_indexed\"], outputCols=[\"type_vec\"])\n",
    "df_new = encoder.fit(df_new).transform(df_new)\n",
    "\n",
    "# Check columns\n",
    "df_new.select(\"isFraud\", \"type\", \"type_indexed\", \"type_vec\").show(5)\n",
    "df_new.columns"
   ]
  },
  {
   "cell_type": "markdown",
   "metadata": {
    "application/vnd.databricks.v1+cell": {
     "cellMetadata": {
      "byteLimit": 2048000,
      "rowLimit": 10000
     },
     "inputWidgets": {},
     "nuid": "f9f193b9-f11b-47ff-9fa9-89e91cc1cb5f",
     "showTitle": false,
     "tableResultSettingsMap": {},
     "title": ""
    }
   },
   "source": [
    "#Data Balance"
   ]
  },
  {
   "cell_type": "code",
   "execution_count": 0,
   "metadata": {
    "application/vnd.databricks.v1+cell": {
     "cellMetadata": {
      "byteLimit": 2048000,
      "rowLimit": 10000
     },
     "inputWidgets": {},
     "nuid": "57b04657-b117-4162-bbaa-f45b1aa0861b",
     "showTitle": false,
     "tableResultSettingsMap": {},
     "title": ""
    }
   },
   "outputs": [],
   "source": [
    "from pyspark.ml.feature import VectorAssembler\n",
    "\n",
    "feature_cols = [\n",
    "    'amount', 'oldbalanceOrg', 'newbalanceOrig', 'oldbalanceDest', 'newbalanceDest',\n",
    "    'deltaOrig', 'deltaDest', 'amount_to_orig_ratio', 'amount_to_dest_ratio',\n",
    "    'type_vec'\n",
    "]\n",
    "\n",
    "assembler = VectorAssembler(inputCols=feature_cols, outputCol=\"features\")\n",
    "df_final = assembler.transform(df_new)\n"
   ]
  },
  {
   "cell_type": "code",
   "execution_count": 0,
   "metadata": {
    "application/vnd.databricks.v1+cell": {
     "cellMetadata": {
      "byteLimit": 2048000,
      "rowLimit": 10000
     },
     "inputWidgets": {},
     "nuid": "7d581b8e-a5cc-4eb2-aa16-4ddb3c0ca905",
     "showTitle": false,
     "tableResultSettingsMap": {},
     "title": ""
    }
   },
   "outputs": [
    {
     "output_type": "stream",
     "name": "stdout",
     "output_type": "stream",
     "text": [
      "+-------+--------------------+\n|isFraud|            features|\n+-------+--------------------+\n|      0|(14,[0,1,2,5,7,8,...|\n|      0|(14,[0,1,2,5,7,8,...|\n|      1|(14,[0,1,5,7,8,12...|\n|      1|(14,[0,1,3,5,6,7,...|\n|      0|(14,[0,1,2,5,7,8,...|\n+-------+--------------------+\nonly showing top 5 rows\n\n"
     ]
    }
   ],
   "source": [
    "df_final.select(\"isFraud\", \"features\").show(5)\n"
   ]
  },
  {
   "cell_type": "code",
   "execution_count": 0,
   "metadata": {
    "application/vnd.databricks.v1+cell": {
     "cellMetadata": {
      "byteLimit": 2048000,
      "rowLimit": 10000
     },
     "inputWidgets": {},
     "nuid": "4436364b-2999-448e-8324-6090f71f4dcd",
     "showTitle": false,
     "tableResultSettingsMap": {},
     "title": ""
    }
   },
   "outputs": [
    {
     "output_type": "stream",
     "name": "stdout",
     "output_type": "stream",
     "text": [
      "Fraud weight: 387.35054182393765, Non-fraud weight: 0.5006462444095885\n"
     ]
    }
   ],
   "source": [
    "total = df_final.count()\n",
    "fraud_count = df_final.filter(col(\"isFraud\") == 1).count()\n",
    "non_fraud_count = df_final.filter(col(\"isFraud\") == 0).count()\n",
    "\n",
    "fraud_weight = total / (2 * fraud_count)\n",
    "non_fraud_weight = total / (2 * non_fraud_count)\n",
    "\n",
    "print(f\"Fraud weight: {fraud_weight}, Non-fraud weight: {non_fraud_weight}\")\n"
   ]
  },
  {
   "cell_type": "code",
   "execution_count": 0,
   "metadata": {
    "application/vnd.databricks.v1+cell": {
     "cellMetadata": {
      "byteLimit": 2048000,
      "rowLimit": 10000
     },
     "inputWidgets": {},
     "nuid": "b97ac4a7-dbc5-4abb-a533-3363a477ef82",
     "showTitle": false,
     "tableResultSettingsMap": {},
     "title": ""
    }
   },
   "outputs": [],
   "source": [
    "from pyspark.sql.functions import when\n",
    "\n",
    "df_weighted = df_final.withColumn(\n",
    "    \"classWeightCol\",\n",
    "    when(col(\"isFraud\") == 1, fraud_weight).otherwise(non_fraud_weight)\n",
    ")\n"
   ]
  },
  {
   "cell_type": "code",
   "execution_count": 0,
   "metadata": {
    "application/vnd.databricks.v1+cell": {
     "cellMetadata": {
      "byteLimit": 2048000,
      "rowLimit": 10000
     },
     "inputWidgets": {},
     "nuid": "74cd02f2-a138-4315-bfdf-37d250a0caca",
     "showTitle": false,
     "tableResultSettingsMap": {},
     "title": ""
    }
   },
   "outputs": [
    {
     "output_type": "stream",
     "name": "stdout",
     "output_type": "stream",
     "text": [
      "+-------+------------------+-------+\n|isFraud|    classWeightCol|  count|\n+-------+------------------+-------+\n|      1|387.35054182393765|   8213|\n|      0|0.5006462444095885|6354407|\n+-------+------------------+-------+\n\n"
     ]
    }
   ],
   "source": [
    "df_weighted.select(\"isFraud\", \"classWeightCol\").groupBy(\"isFraud\", \"classWeightCol\").count().show()\n"
   ]
  },
  {
   "cell_type": "markdown",
   "metadata": {
    "application/vnd.databricks.v1+cell": {
     "cellMetadata": {
      "byteLimit": 2048000,
      "rowLimit": 10000
     },
     "inputWidgets": {},
     "nuid": "a4101b20-cdba-48af-90f6-843b99727260",
     "showTitle": false,
     "tableResultSettingsMap": {},
     "title": ""
    }
   },
   "source": [
    "#Dataset is balanced logically\n",
    "Model Implementation using 50% of data -> Logistic Regression"
   ]
  },
  {
   "cell_type": "code",
   "execution_count": 0,
   "metadata": {
    "application/vnd.databricks.v1+cell": {
     "cellMetadata": {
      "byteLimit": 2048000,
      "rowLimit": 10000
     },
     "inputWidgets": {},
     "nuid": "84b42c66-b362-448a-b78c-acaa6b67b602",
     "showTitle": false,
     "tableResultSettingsMap": {},
     "title": ""
    }
   },
   "outputs": [],
   "source": [
    "from pyspark.sql.functions import col\n",
    "from pyspark.ml.classification import LogisticRegression\n",
    "from pyspark.ml.evaluation import BinaryClassificationEvaluator\n",
    "from pyspark.ml.feature import VectorAssembler\n",
    "import mlflow\n",
    "import mlflow.spark\n",
    "df_50 = df_weighted.sample(withReplacement=False, fraction=0.5, seed=42)\n"
   ]
  },
  {
   "cell_type": "code",
   "execution_count": 0,
   "metadata": {
    "application/vnd.databricks.v1+cell": {
     "cellMetadata": {
      "byteLimit": 2048000,
      "rowLimit": 10000
     },
     "inputWidgets": {},
     "nuid": "5d6ba76c-c6a5-424e-812c-1430755974d8",
     "showTitle": false,
     "tableResultSettingsMap": {},
     "title": ""
    }
   },
   "outputs": [],
   "source": [
    "with mlflow.start_run(run_name=\"LogReg_Weighted_50Percent\"):\n",
    "\n",
    "    # Define the model\n",
    "    lr = LogisticRegression(\n",
    "        featuresCol=\"features\",\n",
    "        labelCol=\"isFraud\",\n",
    "        weightCol=\"classWeightCol\",\n",
    "        maxIter=10\n",
    "    )\n",
    "model_50 = lr.fit(df_50)\n",
    "\n",
    "predictions_50 = model_50.transform(df_50)"
   ]
  },
  {
   "cell_type": "code",
   "execution_count": 0,
   "metadata": {
    "application/vnd.databricks.v1+cell": {
     "cellMetadata": {
      "byteLimit": 2048000,
      "rowLimit": 10000
     },
     "inputWidgets": {},
     "nuid": "a3842034-fba3-40f6-a53c-602d9f93298e",
     "showTitle": false,
     "tableResultSettingsMap": {},
     "title": ""
    }
   },
   "outputs": [
    {
     "output_type": "stream",
     "name": "stdout",
     "output_type": "stream",
     "text": [
      "📊 Classification Report:\n              precision    recall  f1-score   support\n\n           0     1.0000    0.8801    0.9362   3178413\n           1     0.0105    0.9875    0.0208      4092\n\n    accuracy                         0.8802   3182505\n   macro avg     0.5052    0.9338    0.4785   3182505\nweighted avg     0.9987    0.8802    0.9350   3182505\n\n✅ Accuracy: 0.8802\n"
     ]
    }
   ],
   "source": [
    "pred_pd = predictions_50.select(\"isFraud\", \"prediction\").toPandas()\n",
    "from sklearn.metrics import classification_report, confusion_matrix, accuracy_score\n",
    "\n",
    "# True and predicted values\n",
    "y_true = pred_pd[\"isFraud\"]\n",
    "y_pred = pred_pd[\"prediction\"]\n",
    "\n",
    "# Classification report\n",
    "print(\"📊 Classification Report:\")\n",
    "print(classification_report(y_true, y_pred, digits=4))\n",
    "\n",
    "# Accuracy\n",
    "acc = accuracy_score(y_true, y_pred)\n",
    "print(f\"✅ Accuracy: {acc:.4f}\")\n"
   ]
  },
  {
   "cell_type": "code",
   "execution_count": 0,
   "metadata": {
    "application/vnd.databricks.v1+cell": {
     "cellMetadata": {
      "byteLimit": 2048000,
      "rowLimit": 10000
     },
     "inputWidgets": {},
     "nuid": "a4d4b2ef-0733-4b0f-9ae6-f2551c10f83d",
     "showTitle": false,
     "tableResultSettingsMap": {},
     "title": ""
    }
   },
   "outputs": [
    {
     "output_type": "display_data",
     "data": {
      "image/png": "[encoded data removed]"
     },
     "metadata": {
      "application/vnd.databricks.v1+output": {
       "addedWidgets": {},
       "arguments": {},
       "data": "data:image/png;base64,iVBORw0KGgoAAAANSUhEUgAAAWsAAAEWCAYAAACg+rZnAAAAOXRFWHRTb2Z0d2FyZQBNYXRwbG90bGliIHZlcnNpb24zLjUuMSwgaHR0cHM6Ly9tYXRwbG90bGliLm9yZy/YYfK9AAAACXBIWXMAAAsTAAALEwEAmpwYAAAlJklEQVR4nO3dd5xU1f3G8c+zdAREEJCAiChg7KKxRGOLRrHErhg10RCxhKhYk+hPRBNjixUbiQ1bTGKJGhVjIYoVROwKRCyoCCICCwZZ+P7+uBccNsvuLMzdmWGft6/78s4t55yZ3f1y5pxzz1FEYGZmpa2i2AUwM7O6OVibmZUBB2szszLgYG1mVgYcrM3MyoCDtZlZGXCwtpUmqZWkhyTNlvS3lUjnCEmPF7JsxSDpUUk/K3Y5bNXiYN2ISPqJpHGSKiV9lgaVHQqQ9MFAF6BjRByyoolExJ0R8aMClGcZknaWFJLur3Z8s/T46DzTOU/SHXVdFxH9I+K2FSyuWY0crBsJSacCVwIXkgTWHsB1wH4FSH4dYGJEVBUgrazMALaT1DHn2M+AiYXKQAn/TVkm/IvVCEhaHTgf+GVE3BcR8yJiYUQ8FBFnpNe0kHSlpE/T7UpJLdJzO0uaKuk0SdPTWvkx6blhwLnAYWmNfWD1GqiknmkNtmn6+mhJ70uaK2mKpCNyjo/Jue/7ksamzStjJX0/59xoSRdIei5N53FJa9byMXwDPAAMSO9vAhwG3Fnts7pK0seS5kh6RdIP0uN7Ar/NeZ+v5ZTj95KeA+YDvdJjv0jPXy/p3pz0L5b0pCTl+/MzAwfrxmI7oCVwfy3XnA1sC2wObAZsDZyTc34tYHWgGzAQuFbSGhExlKS2fk9EtImIm2oriKTVgKuB/hHRFvg+MKGG6zoA/0yv7QhcDvyzWs34J8AxQGegOXB6bXkDI4Gfpvt7AG8Cn1a7ZizJZ9ABuAv4m6SWEfFYtfe5Wc49RwGDgLbAh9XSOw3YJP2H6Ackn93PwvM8WD05WDcOHYEv6mimOAI4PyKmR8QMYBhJEFpiYXp+YUQ8AlQCfVewPIuBjSW1iojPIuKtGq7ZG5gUEbdHRFVE3A28C+ybc80tETExIr4G/koSZJcrIp4HOkjqSxK0R9ZwzR0RMTPN849AC+p+n7dGxFvpPQurpTef5HO8HLgD+FVETK0jPcuIpJvTb4dv5nn9oZLelvSWpLuyLl9tHKwbh5nAmkuaIZbjOyxbK/wwPbY0jWrBfj7Qpr4FiYh5JM0PxwOfSfqnpA3yKM+SMnXLeT1tBcpzOzAY2IUavmlIOl3SO2nTy1ck3yZqa14B+Li2kxHxEvA+IJJ/VKx4bgX2zOdCSb2B3wDbR8RGwCnZFatuDtaNwwvAAmD/Wq75lKSjcIke/G8TQb7mAa1zXq+VezIiRkXE7kBXktryn/Ioz5IyfbKCZVriduBE4JG01rtU2kxxJnAosEZEtAdmkwRZgOU1XdTapCHplyQ19E/T9K1IIuIZ4MvcY5LWk/RY2kfxbE7l4Vjg2oiYld47vYGLuwwH60YgImaTdAJeK2l/Sa0lNZPUX9Il6WV3A+dI6pR21J1L8rV9RUwAdpTUI+3c/M2SE5K6SNovbbteQNKcsriGNB4B+qTDDZtKOgzYEHh4BcsEQERMAXYiaaOvri1QRTJypKmkc4F2Oec/B3rWZ8SHpD7A74AjSZpDzpS0+YqV3jIygqR5akuSfo/r0uN9SH4Hn5P0YtrJXDQO1o1E2v56Kkmn4QySr+6DSUZIQBJQxgGvA28A49NjK5LXv4B70rReYdkAW5GW41OSGs5OwAk1pDET2Iekg24mSY10n4j4YkXKVC3tMRFR07eGUcBjJMP5PgT+y7JNHEse+JkpaXxd+aTNTncAF0fEaxExiWREye1LRtpYcUlqQ9LJ/TdJE4AbSb7xATQFegM7A4cDf5LUvuFLmZA7pc2sMZHUE3g4IjaW1A54LyK61nDdDcBLEXFL+vpJ4NcRMbZBC5xyzdrMGq2ImANMkXQILH2wacmwzAdIatWkTYN9SDqKi8LB2swaDUl3k3S4900f9BpIMmx1YPqg01t8+1TvKJImr7eBp4Ez0ua5onAziJlZGXDN2sysDNT2kERRtdpisKv89j/efPzSYhfBStB6nVqt9Fwr9Yk5X786vMHndinZYG1m1qBKfMJEB2szM4ASnwjRwdrMDFyzNjMrC65Zm5mVgYomxS5BrRyszczAzSBmZmXBzSBmZmXANWszszLgmrWZWRlwzdrMrAx4NIiZWRlwzdrMrAxUuM3azKz0uWZtZlYGPBrEzKwMuIPRzKwMuBnEzKwMuBnEzKwMlHjNurRLZ2bWUKT8t1qT0dqSnpb0tqS3JJ1cwzU7S5otaUK6nVtX8VyzNjODQtasq4DTImK8pLbAK5L+FRFvV7vu2YjYJ99EHazNzKBgo0Ei4jPgs3R/rqR3gG5A9WBdL24GMTODpGad5yZpkKRxOdugGpOUegJbAC/VcHo7Sa9JelTSRnUVzzVrMzOo12iQiBgBjKg9ObUB7gVOiYg51U6PB9aJiEpJewEPAL1rS881azMzqFfNus6kpGYkgfrOiLiv+vmImBMRlen+I0AzSWvWlqaDtZkZFHI0iICbgHci4vLlXLNWeh2StiaJxTNrS9fNIGZmUMjRINsDRwFvSJqQHvst0AMgIm4ADgZOkFQFfA0MiIioLVEHazMzQBWFCdYRMQaotfodEcOB4fVJ18HazAyQHzc3MysDpR2rHazNzMA1azOzstDogrWka4Dl9mpGxEmFztPMbGVVFKiDMStZlG4c8ArQEugHTEq3zYHmGeRnZrbyVI+tCApes46I2wAknQDsEBFV6esbgGcLnZ+ZWSE0umaQHGsA7YAv09dt0mNmZiWnMQfri4BXJT1N8sVhR+C8DPMzM1thjTZYR8Qtkh4FtkkPnRUR07LKz8xsZTTaYC1px3R3Vvr/PpL6RMQzWeVpZraiVNFIgzVwRs5+S2BrklEiu2aYp5nZCmm0NeuI2Df3taS1gSuzys/MbGU02mBdg6nAdxswPzOz/JV2rM60zTr3ScYKkodixmeVn5nZymjMNetxOftVwN0R8VyG+ZmZrbBGG6yXPMloZlYOSn1ukCybQXoDfwA2JBkNAkBE9MoqTzOzFVbaFetMF8y9BbiepAlkF2AkcEeG+ZmZrTBJeW/FkGWwbhURTwKKiA8j4jxg7wzzMzNbYaUerLPsYFwgqQKYJGkw8AnJZE5mZiWn1DsYs6xZnwy0Bk4CtgSOBH6WYX5mZitMFcp7K4ZMataSmgCHRcTpQCVwTBb5lKLuXdrz5wt+SueObYmAm+99jmvvHs3tFx1D755dAGjfthVfzf2abQdcRLOmTRh+zuH027AHi2Mxp19yL8++Mok2rVvwxM1DlqbbrXN7/vLIWM647F5OOnJXjj5gO6qqFvPFrEqOH3YHH32WTMHyj+EnsvWmPXn+1fc56OQblt5//dCf0G/DHggx+aPpHHvu7cz7+puG/XAMgG8WLODMwT9n4TcLWbSoih122Y0jB57IhHEvcdN1VxCLF9OyVWtOPft8vtO9B29MeIURV1/KlP9M4tfnXcQOu+wOwH8mvcu1l13I/HmVVDRpwmE//QU7/XAPAKZ9+gkXDT2LuXNms37f73L6//2eZs2asfCbb7jsd+cw+b13aNtudX5z/sV06dqtmB9HySj1mnUmwToiFknaIYu0S13VosX8+vL7mPDuVNq0bsHzd53Fky+9y1G/vmXpNRedegCzK78G4OcHbg/A9w69kE5rtOGB4Seyw5GXUjl/AdsOuGjpPc/deSYPPDUBgAnvfsz2RzzL1/9dyLGH7MDvT95/afpXjHyC1i2bM/CgZT/+My+7j7nz/gvAxacdyAkDduKyW/6V2edgy9eseXP+cNWfaNW6NVVVCzn9hGPYapsdGH7Z7zn3oivp0bMXD993D3+57U+cevYFdO6yFqf+9nzuvXvkMum0aNGK0865gG5rr8PML6Zz0sCfsOXW29GmbTtuvv5KDjjsSHbabU+uufR3PP7w/ex9wKGMevh+2rRtx033PMS/n3iMm6+/it+cf0mRPonSUurBOstmkFclPSjpKEkHLtkyzK8kTPtiDhPenQpA5fwFvDtlGt/p1H6Zaw7avR9/fewVADbotRajx74HwIxZlcye+zVbbthjmevX79GZzh3a8tz4/wDwzLhJfP3fhQC8/PoHdOvybfqjX57I3HkL/qdcSwI1QMsWzYhY7jKZljFJtGrdGoCqqioWLaqCtONq/rx5AMybV0mHNTsB0KVrN9Zdvw8V1b5+d++xDt3WXgeAjmt2pn37Dsz+ahYRwevjx7LDzrsBsFv/fXnh2acBeHHMaHbrn0zbs8POu/HaKy/7dyHVmDsYWwIzWXaWvQDuyzDPktKjawc279udsW9+sPTY9v3W4/Mv5/Kfj2YA8MbET9hnp03462Ov0L3LGmyx4dp0X2sNxr314dJ7DtmzH39/vOYn9Y/efztGPfd2XuW58bwj2WOHDXn3/Wn8+vJG82MoSYsWLeLkgYfz6Scfs88Bh7HBRptw8q+HMvSMwTRv0YLWq7XhihtH1p1Q6r2336CqaiFdu63NnNlfsVqbtjRpmvx5r9mpCzNnTAdg5ozpdOq8FgBNmjal9WptmDP7K1Zv70WcGt04a0kXAkTEMcBdEXFMzvbzOu4dJGmcpHFVX7xV6KI1qNVaNefuy37BGZfdu0yt9tA9t+Jvj337JP5t/3iBTz7/iufuPJNLzziIF1+bwqJFi5dJ65A9tuSvj42jugF7fY9+G/bgituezKtMx513B71+dDbvTpnGwT/acgXfmRVCkyZNGH7rXxl53ygmvvMmH7w/mQfuuYNhlw7n9vsfZ/e9fsyIa/6YV1pffjGDyy44hyG/GVbyT+GVslKvWWfxk90zZ//i+twYESMiYquI2KrpmhsVuFgNp2nTCu6+7FjueXQc/3jqtaXHmzSpYL9dN+Pvo76tJS9atJgz/3gf2w64iEOHjKB921ZM+mj60vOb9OlG0yZNePWdj5fJY5dt+nLWwD04+JQb+WZhVd5lW7w4+NuoV9j/h5uv+Bu0gmnTth2b9vse414cw/uTJ7LBRpsAsOOue/DOm6/VcTfMn1fJ0DN/xc8GDWaDjTcFoN3q7ZlXOZdFVcnvxRczPqdjp84AdOzUmRnTkwWbFlVVMX9eJe1Wb5/BOys/FRXKeytK+YqS6yruhqFH8N6UaVx9x1PLHN91m75M/OBzPpn+1dJjrVo2o3XL5un5DahatJh33/929bND9/zfWvVmfbsz/OwBHDzkRmbMqsyrTL3WXnPp/j47bcrEDz6v79uyApk960sq584BYMGC//Lq2BdZe51ezJ9XydSPkuavV8e9yNrrrFtrOgsXLuSC357KD/fcZ+kIEUhqiJtusRVjRj8BwBOPPsS2O+wMwDbb78QTjz4EwJjRT7Bpv++VfMdaQyn1mrUK3bkgaSpwOUkL0JB0f6mIuLym+6prtcXgsuz1+P7mvXjyllN5Y+InLE4/26HDH2TUmLcZMexIXn7jA/789zFLr+/RtQMPXfdLFi8OPp3xFScMu3PpMDyAtx86j/1/df0ywfWfNwxmo/W/w7Qvkj/4j6fN4pBTbgTgiZtOoc+6XWjTqgVfzp7H8cPu4skX3+XJm0+h7WqtkJJ28pMuvGeZ5ply8ebjlxa7CCttyuSJ/PH3/8fixYuJxYv5wa4/4ifHHMfz/36K22+6jgpV0KZtW075zTC6duvOxHfe5ILfnkrl3Dk0b96CNTp05IY77uOpUf/kiguHss663063M+Ts81mv9wZ89slULj7vLObOmcN6vftyxrkX0qx5c75ZsIDLLjib/0x6j7bt2nHWeRfTtVv3In4ahbFep1YrHUH7nPlY3jFn4iV7NnjEziJYD63tfEQMyyedcg3Wlq1VIVhb4RUiWPc9a1TeMee9i/dYbn7pqlgjgS4kgypGRMRV1a4RcBWwFzAfODoiap3vv+CjQfINxmZmpaSArRtVwGkRMV5SW+AVSf+KiNxhW/2B3um2Dcmkd9vUlmhDLutlZlayCtVxGBGfAZ+l+3MlvQN0A3KD9X7AyEiaNl6U1F5S1/TemstXkNKZmZW5+owGyR1mnG6DakpTUk9gC+Claqe6AblDvKamx5Yry8UH1o2IKXUdMzMrBfVpBomIEcCI2tNTG+Be4JSImLNShSPbmvW9NRz7e4b5mZmtsEIO3ZPUjCQG3hkRNT0u/Amwds7r7umx5Sp4zVrSBsBGwOrV5gJpR87yXmZmpaRQ46fTkR43Ae/UMlT5QWCwpL+QdCzOrq29GrJpBukL7AO0B/bNOT4XODaD/MzMVloBR4NsDxwFvCFpQnrst0APgIi4AXiEZNjeZJKhe3VOI53F0L1/AP+QtF1EvFDo9M3MslDA0SBjqGNaqHQUyC/rk26WbdYfS7pf0vR0u1dS+T8qZWarpFJ/3Dzr1c0fBL6Tbg+lx8zMSo6U/1YMWQbrzhFxS0RUpdutQKcM8zMzW2GNuWb9haQjJTVJtyNJFiMwMys5jblm/XPgUGAayaOXB9OIFs41s/JS6jXrzJ5gjIgPgR9nlb6ZWSEVa1GBfGXxUMy5tZyOiLig0Hmama2sUl+DIYua9bwajq0GDAQ6Ag7WZlZySn3FnCweilm6ymc6l+vJJG3VfwHyWwHUzKyBlXiszqbNWlIH4FTgCOA2oF9EzKr9LjOz4ml0NWtJlwIHkkwfuElE5Leiq5lZETW6YA2cBiwAzgHOzvkARNLB2C6DPM3MVkqjGw0SEV59xszKTolXrL0Go5kZNM5mEDOzslPisdrB2swMoKLEo7WDtZkZjbCD0cysHJV4rHawNjMDdzCamZWFEo/VDtZmZgCqfY3bonOwNjPDbdZmZmXBo0HMzMqAx1mbmZWBEo/VDtZmZuChe2ZmZaHEY7WDtZkZQJMSj9YO1mZmlHEziKRrgFje+Yg4KZMSmZkVQYmP3Ku1Zj2uwUphZlZkhaxZS7oZ2AeYHhEb13B+Z+AfwJT00H0RcX5taS43WEfEbStcUjOzMlPgVpBbgeHAyFqueTYi9sk3wTrbrCV1As4CNgRaLjkeEbvmm4mZWakrZM06Ip6R1LNgCQL5LG57J/AOsC4wDPgAGFvIQpiZFVuTCuW9SRokaVzONmgFstxO0muSHpW0UV0X5zMapGNE3CTp5Ij4N/BvSQ7WZrZKqU+9OiJGACNWIrvxwDoRUSlpL+ABoHdtN+RTs16Y/v8zSXtL2gLosBKFNDMrORVS3tvKiog5EVGZ7j8CNJO0Zm335FOz/p2k1YHTgGuAdsCQlS2smVkpachh1pLWAj6PiJC0NUnFeWZt99QZrCPi4XR3NrDLSpfSzKwEFXjo3t3AzsCakqYCQ4FmABFxA3AwcIKkKuBrYEBELPe5FshvNMgt1PBwTET8vL5vwMysVBWyZh0Rh9dxfjjJ0L685dMM8nDOfkvgAODT+mRiZlbqmpT4I4z5NIPcm/s6rd6PyaxEZmZFULZzg9SiN9C50AWpbtbYen1DMDNbKfkMjSumfNqs57Jsm/U0kicazcxWGWVfs46Itg1REDOzYirxJuu6a/6SnsznmJlZOavP4+bFUNt81i2B1iTjBNfg26cx2wHdGqBsZmYNptRr1rU1gxwHnAJ8B3iFb4P1HOo5PtDMrNSVeJN1rfNZXwVcJelXEXFNA5bJzKzBFWLOjyzlM1plsaT2S15IWkPSidkVycys4VXUYytW+epybER8teRFRMwCjs2sRGZmRSDlvxVDPg/FNJGkJZOMSGoCNM+2WGZmDavsHzcHHgPukXRj+vo44NHsimRm1vBKPFbnFazPAgYBx6evXwfWyqxEZmZFUPYdjBGxGHiJZO3FrYFdSdZkNDNbZZRtm7WkPsDh6fYFcA9ARHgBAjNb5ZRzM8i7wLPAPhExGUCSl/Mys1WS6rVkbsOrLVgfCAwAnpb0GPAX6rcAsJlZ2Wha4nOkLrd4EfFARAwANgCeJnn0vLOk6yX9qIHKZ2bWICTlvRVDPh2M8yLirojYF+gOvIrnszazVUyF8t+KUr76XBwRsyJiRET8MKsCmZkVQ9mOBjEza0xKfZy1g7WZGdCkxDsYHazNzICKEh/s5mBtZkYZLz5gZtaYlPMTjGZmjYY7GM3MykCJx2oHazMzWDUWHzAzW+WV+Mi9ki+fmVmDKOTcIJJuljRd0pvLOS9JV0uaLOl1Sf3qStPB2syMZErRfLc83ArsWcv5/kDvdBsEXF9Xgg7WZmYko0Hy3eoSEc8AX9ZyyX7AyEi8CLSX1LXW8tXr3ZiZraLqU7OWNEjSuJxtUD2z6wZ8nPN6anpsudzBaGYGVNRjNEhEjABGZFea/+VgbWZGgzczfAKsnfO6e3psudwMYmZGg68U8yDw03RUyLbA7Ij4rLYbXLM2M6OwC8xKuhvYGVhT0lRgKNAMICJuAB4B9gImA/OBY+pK08HazAwKurZiRBxex/kAflmfNB2szcyAJiU+OYiDtZkZhW0GyYKDtZkZnnXPzKwseFkvM7My4Jq1mVkZUGOsWUvqUNv5iKhtghMzswbXWEeDvAIESQdrD2BWut8e+AhYN6N8zcxWSInH6mweN4+IdSOiF/AEsG9ErBkRHYF9gMezyNPMbGVI+W/FkPXcINtGxCNLXkTEo8D3M87TzKzeVI//iiHrDsZPJZ0D3JG+PgL4NOM8zczqrcTXy828Zn040Am4P906p8fMzEpKIVeKyUKmNet01MfJWeZhZlYIpT50L9OataSnJT1Vfcsyz1VB/9135aD99+XQA/fj8EMPBODxUY9ywI/3ZvONN+CtN98ocgktS4sWLeLQg/Zn8InHATB16sccMeAQ9tlzd8447RQWfvPNMtc/8fgoNtuo79Lfi6++msXAo49i26224MLfnd/g5S9XFcp/K4as26xPz9lvCRwEVGWc5yrhz7fcxhprfDtcff31+3DFVddwwbChRSyVNYQ7bx9Jr17rUTmvEoCrLr+MI396NP332psLhp3L/ff9nUMH/ASAefMqufOOkWyy6WZL72/evAW//NXJTJ48icmTJhXlPZSjRl2zjohXcrbnIuJUkgm5rZ56rbcePdftVexiWMY+nzaNZ58ZzQEHHQxARPDySy+y+4/2AODH+x3AU08+ufT6a6++imMGHkuLFi2WHmvdujX9ttyKFs1bYPlr1EP3JHXI2daUtAewepZ5rhIExx87kAGHHMjf/3pPsUtjDeiSiy5kyGlnUFGR/Gl+9dUs2rZtR9OmyZfgLl3WYvr0zwF45+23mDZtGjvutHOxirtKqc/q5sWQdTNI7pOMVcAUYODyLk6Xcx8EMPy6Gxl4bH1Xd1813Hr73XTp0oWZM2dy/C+OYd1evdhyq+8Vu1iWsX+PfpoOHTqw4UYbM/bll2q9dvHixVx2yUWc//s/NFDpVn2N9XFzIHmSsZ7XL13e/b9VRCaFKgNdunQBoGPHjuy62+68+cbrDtaNwIRXxzN69FOMefYZFixYwLx5lVzyh98zd+4cqqqqaNq0KZ9/Po3Onbswb948Jk+ayC+O/ikAX3wxg5MHn8BVw69no403KfI7KVOlHauzn3VP0sbAhiQdjABExMis8y1X8+fPJ2Ixq63Whvnz5/PC889x3PEnFrtY1gBOHnIaJw85DYCxL7/EbbfezB8u+SOnDzmJfz0+iv577c2D/7ifXXbdlbZt2/Lv576tfQ88+ihOPf1MB+qVUOodjJkGa0lDSToUNyRZzbc/MAZwsF6OL2fOZMhJyTqaVYsWsdfe+7D9D3bkySf+xUUXXsCsL79k8InH0bfvd7nhTzcVubTWEE459QzOPH0I1159JRt897sccNAhdd7Tf/ddqaysZOHChTz91BPcMOJm1lt//QYobfkq8VYQlCyym1Hi0hvAZsCrEbGZpC7AHRGxe133NuZmEDOrn5ZNV75aPPb92XnHnO/1Wr3BQ3vWzSBfR8RiSVWS2gHTgbUzztPMrP5KvGaddbAeJ6k98CeSkSGVwAsZ52lmVm/FmvMjX5k1g0gS0D0iPk5f9wTaRcTr+dzvZhAzy1chmkHGfzAn75jTr2e7VacZJCJC0iPAJunrD7LKy8xspZV2xTrzKVLHS/IAYTMreY198YFtgCMlfQDMI/m3KyJi04zzNTOrlxJvss5sdfMeEfERsEcW6ZuZFVqjDNbAA0C/iPhQ0r0RcVBG+ZiZFUSpP8GYVZt17rv2vJ5mVvIKOUWqpD0lvSdpsqRf13D+aEkzJE1It1/UlWZWNetYzr6ZWUkqVL1aUhPgWmB3YCowVtKDEfF2tUvviYjB+aabVbDeTNIckvffKt2HbzsY22WUr5nZiilcK8jWwOSIeB9A0l+A/YDqwbpeMmkGiYgmEdEuItpGRNN0f8lrB2ozKzn1GbonaZCkcTlb7uT73YCPc15PTY9Vd5Ck1yX9XVKd03BkPkWqmVk5qM9CuLlz76+gh4C7I2KBpOOA24Bday3fSmRmZrbqKNy6Xp+w7IR13dNjS0XEzIhYkL78M7BlXYk6WJuZUdAnGMcCvSWtK6k5MAB4cJm8pK45L38MvFNXom4GMTOjcA/FRESVpMHAKKAJcHNEvCXpfGBcRDwInCTpxyRr034JHF1n+bJcfGBleNY9M8tXIWbdmzhtft4xp89arVedWffMzMpKaT/A6GBtZgalv/iAg7WZGSVfsXawNjMDSj5aO1ibmVH6s+45WJuZ0XjnszYzKysO1mZmZcDNIGZmZcA1azOzMlDisdrB2swMXLM2MysTpR2tHazNzKjf4gPF4GBtZoabQczMyoKH7pmZlYPSjtUO1mZmUPKx2sHazAzcZm1mVhZU4tHawdrMDDeDmJmVhRKvWDtYm5mBh+6ZmZUF16zNzMqAg7WZWRlwM4iZWRlwzdrMrAyUeKx2sDYzA0o+WjtYm5nhNmszs7LgxQfMzMqBg7WZWelzM4iZWRko9aF7iohil8HqIGlQRIwodjmstPj3onGpKHYBLC+Dil0AK0n+vWhEHKzNzMqAg7WZWRlwsC4Pbpe0mvj3ohFxB6OZWRlwzdrMrAw4WJuZlQEH6wKRFJL+mPP6dEnn1XHP/pI2XM658yR9ImlCul1U4CIj6WhJwwudrtWfpEU5P+sJknpmkMcHktYsdLrWMPwEY+EsAA6U9IeI+CLPe/YHHgbeXs75KyLisppOSGoaEVX1L6aVqK8jYvOaTkgSSf/S4oYtkpUS16wLp4qkd35I9ROSekp6StLrkp6U1EPS94EfA5emNan16spA0q2SbpD0EnCJpK0lvSDpVUnPS+qbXrdMjVnSw5J2TvePkTRR0svA9oV441Z46e/Me5JGAm8Ca0u6XtI4SW9JGpZz7dIas6StJI1O9ztKejy9/s+U/FRFVhsH68K6FjhC0urVjl8D3BYRmwJ3AldHxPPAg8AZEbF5RPynhvSG5Hwt3iM91h34fkScCrwL/CAitgDOBS6srXCSugLDSIL0DkCNTTBWFK1yftb3p8d6A9dFxEYR8SFwdkRsBWwK7CRp0zrSHAqMiYiNgPuBHpmV3jLnZpACiog5aU3oJODrnFPbAQem+7cDl+SZ5DLNIJIOB/4WEYvSQ6sDt0nqDQTQrI70tgFGR8SMNL17gD55lsWytUwzSNpm/WFEvJhzzaGSBpH83XYl+cf29VrS3JH09y4i/ilpVqELbQ3HNevCuxIYCKyWUfrzcvYvAJ6OiI2BfYGW6fEqlv3ZtsTK0dKftaR1gdOBH6bf0P5JzT9v/6xXUQ7WBRYRXwJ/JQnYSzwPDEj3jwCeTffnAm1XIrvVgU/S/aNzjn8AbC6pQtLawNbp8ZdIvj53lNQMOGQl8raG1Y4keM+W1AXon3PuA2DLdP+gnOPPAD8BkNQfWCP7YlpWHKyz8Ucgd4jUr4BjJL0OHAWcnB7/C3BG2kFYZwdjDS4B/iDpVZZt0noOmEIyyuRqYDxARHwGnAe8kF7zzgrkaUUQEa8Br5L0U9xF8vNbYhhwlaRxwKJqx3eU9BZJc8hHDVRcy4AfNzczKwOuWZuZlQEHazOzMuBgbWZWBhyszczKgIO1mVkZcLC2TOTMIvempL9Jar0Sad0q6eB0/8/Lm6kwPb9zOu9KffPwjHRW0hysLStfp3OebAx8Axyfe1LSCk11EBG/iIjlzVIIsDNQ72BtVuocrK0hPAusn9Z6n5X0IPC2pCaSLpU0Np2R8DhIpgSVNDydde4JoPOShCSNlrRVur+npPGSXktnM+xJ8o/CkgmwfiCpk6R70zzGSto+vdcz0llZ8UROlqm0Bt0feCw91A/YOCKmpJMSzY6I70lqATwn6XFgC6AvyURFXUiexLy5WrqdgD8BO6ZpdYiILyXdAFQumQBL0l0kE2KNkdQDGAV8l29npDtf0t4sOz2AWclxsLastJI0Id1/FriJpHni5YiYkh7/EbDpkvZokrlOepPMFnd3Orvgp5KeqiH9bYFnlqSVzslSk92ADaWlFed2ktrgGemszDhYW1b+Z+WTNGDmzhoo4FcRMaradXsVsBwVwLYR8d8aymJWNtxmbcU0CjghnQEQSX0krUYyW9xhaZt2V2CXGu59kWSSonXTezukx6vPZPg4yURapNdtnu56RjorKw7WVkx/JmmPHi/pTeBGkm979wOT0nMjSWYJXEa6gMIg4D5JrwH3pKceAg5Y0sFIshDEVmkH5tt8OyrFM9JZWfGse2ZmZcA1azOzMuBgbWZWBhyszczKgIO1mVkZcLA2MysDDtZmZmXAwdrMrAz8P28p38xvwbTZAAAAAElFTkSuQmCC\n",
       "datasetInfos": [],
       "metadata": {},
       "removedWidgets": [],
       "type": "image"
      }
     },
     "output_type": "display_data"
    }
   ],
   "source": [
    "import seaborn as sns\n",
    "import matplotlib.pyplot as plt\n",
    "\n",
    "cm = confusion_matrix(y_true, y_pred)\n",
    "sns.heatmap(cm, annot=True, fmt='d', cmap='Blues', xticklabels=[\"Not Fraud\", \"Fraud\"], yticklabels=[\"Not Fraud\", \"Fraud\"])\n",
    "plt.xlabel(\"Predicted\")\n",
    "plt.ylabel(\"Actual\")\n",
    "plt.title(\"Confusion Matrix\")\n",
    "plt.show()\n"
   ]
  },
  {
   "cell_type": "markdown",
   "metadata": {
    "application/vnd.databricks.v1+cell": {
     "cellMetadata": {
      "byteLimit": 2048000,
      "rowLimit": 10000
     },
     "inputWidgets": {},
     "nuid": "8a94bbb0-bb1b-4991-b6da-7165b460bda6",
     "showTitle": false,
     "tableResultSettingsMap": {},
     "title": ""
    }
   },
   "source": [
    "Model Implementation using 70% of data -> Logistic Regression"
   ]
  },
  {
   "cell_type": "code",
   "execution_count": 0,
   "metadata": {
    "application/vnd.databricks.v1+cell": {
     "cellMetadata": {
      "byteLimit": 2048000,
      "rowLimit": 10000
     },
     "inputWidgets": {},
     "nuid": "35e30edb-35d7-4a34-a185-6fdee2365554",
     "showTitle": false,
     "tableResultSettingsMap": {},
     "title": ""
    }
   },
   "outputs": [],
   "source": [
    "from pyspark.sql.functions import col\n",
    "from pyspark.ml.classification import LogisticRegression\n",
    "from pyspark.ml.evaluation import BinaryClassificationEvaluator\n",
    "import mlflow\n",
    "import mlflow.spark\n",
    "from sklearn.metrics import classification_report, confusion_matrix, accuracy_score\n",
    "import matplotlib.pyplot as plt\n",
    "import seaborn as sns\n",
    "\n",
    "df_70 = df_weighted.sample(withReplacement=False, fraction=0.7, seed=42)\n",
    "with mlflow.start_run(run_name=\"LogReg_Weighted_70Percent\"):\n",
    "    lr = LogisticRegression(\n",
    "        featuresCol=\"features\",\n",
    "        labelCol=\"isFraud\",\n",
    "        weightCol=\"classWeightCol\",\n",
    "        maxIter=10\n",
    "    )\n",
    "model_70 = lr.fit(df_70)\n",
    "predictions_70 = model_70.transform(df_70)"
   ]
  },
  {
   "cell_type": "code",
   "execution_count": 0,
   "metadata": {
    "application/vnd.databricks.v1+cell": {
     "cellMetadata": {
      "byteLimit": 2048000,
      "rowLimit": 10000
     },
     "inputWidgets": {},
     "nuid": "5fcb6599-6a9d-4162-a5ff-37a428d13e9a",
     "showTitle": false,
     "tableResultSettingsMap": {},
     "title": ""
    }
   },
   "outputs": [
    {
     "output_type": "stream",
     "name": "stdout",
     "output_type": "stream",
     "text": [
      "✅ Accuracy: 0.9052\n📊 Classification Report:\n              precision    recall  f1-score   support\n\n           0     0.9999    0.9051    0.9502   4448483\n           1     0.0128    0.9564    0.0252      5707\n\n    accuracy                         0.9052   4454190\n   macro avg     0.5064    0.9307    0.4877   4454190\nweighted avg     0.9987    0.9052    0.9490   4454190\n\n"
     ]
    },
    {
     "output_type": "display_data",
     "data": {
      "image/png": "[encoded data removed]"
     },
     "metadata": {
      "application/vnd.databricks.v1+output": {
       "addedWidgets": {},
       "arguments": {},
       "data": "data:image/png;base64,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\n",
       "datasetInfos": [],
       "metadata": {},
       "removedWidgets": [],
       "type": "image"
      }
     },
     "output_type": "display_data"
    }
   ],
   "source": [
    "pred_pd = predictions_70.select(\"isFraud\", \"prediction\").toPandas()\n",
    "from sklearn.metrics import classification_report, confusion_matrix, accuracy_score\n",
    "import matplotlib.pyplot as plt\n",
    "import seaborn as sns\n",
    "\n",
    "y_true = pred_pd[\"isFraud\"]\n",
    "y_pred = pred_pd[\"prediction\"]\n",
    "\n",
    "acc = accuracy_score(y_true, y_pred)\n",
    "print(f\"✅ Accuracy: {acc:.4f}\")\n",
    "print(\"📊 Classification Report:\")\n",
    "print(classification_report(y_true, y_pred, digits=4))\n",
    "cm = confusion_matrix(y_true, y_pred)\n",
    "plt.figure(figsize=(5, 4))\n",
    "sns.heatmap(cm, annot=True, fmt=\"d\", cmap=\"Blues\", xticklabels=[\"Not Fraud\", \"Fraud\"], yticklabels=[\"Not Fraud\", \"Fraud\"])\n",
    "plt.title(\"Confusion Matrix (70% Data)\")\n",
    "plt.xlabel(\"Predicted\")\n",
    "plt.ylabel(\"Actual\")\n",
    "plt.tight_layout()\n",
    "plt.show()"
   ]
  },
  {
   "cell_type": "markdown",
   "metadata": {
    "application/vnd.databricks.v1+cell": {
     "cellMetadata": {
      "byteLimit": 2048000,
      "rowLimit": 10000
     },
     "inputWidgets": {},
     "nuid": "4f65aa40-a824-4b53-a3ab-fefea55e89d6",
     "showTitle": false,
     "tableResultSettingsMap": {},
     "title": ""
    }
   },
   "source": [
    "#Model Implementation using 85% of data -> Logistic Regression"
   ]
  },
  {
   "cell_type": "code",
   "execution_count": 0,
   "metadata": {
    "application/vnd.databricks.v1+cell": {
     "cellMetadata": {
      "byteLimit": 2048000,
      "rowLimit": 10000
     },
     "inputWidgets": {},
     "nuid": "51aad522-e8bc-48ee-b34a-682cc1cc9f99",
     "showTitle": false,
     "tableResultSettingsMap": {},
     "title": ""
    }
   },
   "outputs": [
    {
     "output_type": "stream",
     "name": "stdout",
     "output_type": "stream",
     "text": [
      "✅ Accuracy: 0.8594\n📊 Classification Report:\n              precision    recall  f1-score   support\n\n           0     1.0000    0.8592    0.9243   5400770\n           1     0.0089    0.9774    0.0176      6976\n\n    accuracy                         0.8594   5407746\n   macro avg     0.5044    0.9183    0.4709   5407746\nweighted avg     0.9987    0.8594    0.9231   5407746\n\n"
     ]
    },
    {
     "output_type": "display_data",
     "data": {
      "image/png": "[encoded data removed]"
     },
     "metadata": {
      "application/vnd.databricks.v1+output": {
       "addedWidgets": {},
       "arguments": {},
       "data": "data:image/png;base64,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\n",
       "datasetInfos": [],
       "metadata": {},
       "removedWidgets": [],
       "type": "image"
      }
     },
     "output_type": "display_data"
    }
   ],
   "source": [
    "from pyspark.sql.functions import col\n",
    "from pyspark.ml.classification import LogisticRegression\n",
    "from pyspark.ml.evaluation import BinaryClassificationEvaluator\n",
    "from sklearn.metrics import classification_report, confusion_matrix, accuracy_score\n",
    "import matplotlib.pyplot as plt\n",
    "import seaborn as sns\n",
    "df_85 = df_weighted.sample(withReplacement=False, fraction=0.85, seed=42)\n",
    "lr = LogisticRegression(\n",
    "    featuresCol=\"features\",\n",
    "    labelCol=\"isFraud\",\n",
    "    weightCol=\"classWeightCol\",\n",
    "    maxIter=10\n",
    ")\n",
    "\n",
    "model_85 = lr.fit(df_85)\n",
    "predictions_85 = model_85.transform(df_85)\n",
    "pred_pd = predictions_85.select(\"isFraud\", \"prediction\").toPandas()\n",
    "y_true = pred_pd[\"isFraud\"]\n",
    "y_pred = pred_pd[\"prediction\"]\n",
    "acc = accuracy_score(y_true, y_pred)\n",
    "print(f\"✅ Accuracy: {acc:.4f}\")\n",
    "print(\"📊 Classification Report:\")\n",
    "print(classification_report(y_true, y_pred, digits=4))\n",
    "cm = confusion_matrix(y_true, y_pred)\n",
    "plt.figure(figsize=(5, 4))\n",
    "sns.heatmap(cm, annot=True, fmt=\"d\", cmap=\"Blues\", xticklabels=[\"Not Fraud\", \"Fraud\"], yticklabels=[\"Not Fraud\", \"Fraud\"])\n",
    "plt.title(\"Confusion Matrix (85% Data)\")\n",
    "plt.xlabel(\"Predicted\")\n",
    "plt.ylabel(\"Actual\")\n",
    "plt.tight_layout()\n",
    "plt.show()"
   ]
  },
  {
   "cell_type": "markdown",
   "metadata": {
    "application/vnd.databricks.v1+cell": {
     "cellMetadata": {},
     "inputWidgets": {},
     "nuid": "6858c021-b774-4761-a222-34dd58e01554",
     "showTitle": false,
     "tableResultSettingsMap": {},
     "title": ""
    }
   },
   "source": [
    "Model Implementation - Random Forest using 50% of data"
   ]
  },
  {
   "cell_type": "code",
   "execution_count": 0,
   "metadata": {
    "application/vnd.databricks.v1+cell": {
     "cellMetadata": {
      "byteLimit": 2048000,
      "rowLimit": 10000
     },
     "inputWidgets": {},
     "nuid": "1455653c-31a3-40e1-9c4b-71961b257f56",
     "showTitle": false,
     "tableResultSettingsMap": {},
     "title": ""
    }
   },
   "outputs": [
    {
     "output_type": "stream",
     "name": "stdout",
     "output_type": "stream",
     "text": [
      "✅ Accuracy: 1.0000\n📊 Classification Report:\n              precision    recall  f1-score   support\n\n           0     1.0000    1.0000    1.0000   3178413\n           1     0.9862    0.9990    0.9926      4092\n\n    accuracy                         1.0000   3182505\n   macro avg     0.9931    0.9995    0.9963   3182505\nweighted avg     1.0000    1.0000    1.0000   3182505\n\n"
     ]
    },
    {
     "output_type": "display_data",
     "data": {
      "image/png": "[encoded data removed]"
     },
     "metadata": {
      "application/vnd.databricks.v1+output": {
       "addedWidgets": {},
       "arguments": {},
       "data": "data:image/png;base64,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\n",
       "datasetInfos": [],
       "metadata": {},
       "removedWidgets": [],
       "type": "image"
      }
     },
     "output_type": "display_data"
    }
   ],
   "source": [
    "from pyspark.ml.classification import RandomForestClassifier\n",
    "from sklearn.metrics import classification_report, confusion_matrix, accuracy_score\n",
    "import matplotlib.pyplot as plt\n",
    "import seaborn as sns\n",
    "#used 50% of data\n",
    "df_50 = df_weighted.sample(withReplacement=False, fraction=0.5, seed=42)\n",
    "rf = RandomForestClassifier(\n",
    "    featuresCol=\"features\",\n",
    "    labelCol=\"isFraud\",\n",
    "    weightCol=\"classWeightCol\",\n",
    "    numTrees=100,\n",
    "    maxDepth=10,\n",
    "    seed=42\n",
    ")\n",
    "\n",
    "rf_model = rf.fit(df_50)\n",
    "predictions_50 = rf_model.transform(df_50)\n",
    "\n",
    "pred_pd = predictions_50.select(\"isFraud\", \"prediction\").toPandas()\n",
    "y_true = pred_pd[\"isFraud\"]\n",
    "y_pred = pred_pd[\"prediction\"]\n",
    "acc = accuracy_score(y_true, y_pred)\n",
    "#Accuracy Score and Classification report\n",
    "print(f\"Accuracy: {acc:.4f}\")\n",
    "print(\"Classification Report:\")\n",
    "print(classification_report(y_true, y_pred, digits=4))\n",
    "\n",
    "# Confusion Matrix\n",
    "cm = confusion_matrix(y_true, y_pred)\n",
    "plt.figure(figsize=(5, 4))\n",
    "sns.heatmap(cm, annot=True, fmt=\"d\", cmap=\"Blues\",\n",
    "            xticklabels=[\"Not Fraud\", \"Fraud\"],\n",
    "            yticklabels=[\"Not Fraud\", \"Fraud\"])\n",
    "plt.title(\"Confusion Matrix (Random Forest - 50% Data)\")\n",
    "plt.xlabel(\"Predicted\")\n",
    "plt.ylabel(\"Actual\")\n",
    "plt.tight_layout()\n",
    "plt.show()"
   ]
  },
  {
   "cell_type": "markdown",
   "metadata": {
    "application/vnd.databricks.v1+cell": {
     "cellMetadata": {},
     "inputWidgets": {},
     "nuid": "984bd1bb-84c9-4dc9-94fc-7ebc23442520",
     "showTitle": false,
     "tableResultSettingsMap": {},
     "title": ""
    }
   },
   "source": [
    "Model Implementation - Random Forest using 70% of data"
   ]
  },
  {
   "cell_type": "code",
   "execution_count": 0,
   "metadata": {
    "application/vnd.databricks.v1+cell": {
     "cellMetadata": {
      "byteLimit": 2048000,
      "rowLimit": 10000
     },
     "inputWidgets": {},
     "nuid": "eed7f00f-1fbc-4d64-bb85-48d84590a4d6",
     "showTitle": false,
     "tableResultSettingsMap": {},
     "title": ""
    }
   },
   "outputs": [
    {
     "output_type": "stream",
     "name": "stdout",
     "output_type": "stream",
     "text": [
      "Accuracy: 1.0000\nClassification Report:\n              precision    recall  f1-score   support\n\n           0     1.0000    1.0000    1.0000   4448483\n           1     0.9801    0.9991    0.9895      5707\n\n    accuracy                         1.0000   4454190\n   macro avg     0.9900    0.9995    0.9947   4454190\nweighted avg     1.0000    1.0000    1.0000   4454190\n\n"
     ]
    },
    {
     "output_type": "display_data",
     "data": {
      "image/png": "[encoded data removed]"
     },
     "metadata": {
      "application/vnd.databricks.v1+output": {
       "addedWidgets": {},
       "arguments": {},
       "data": "data:image/png;base64,iVBORw0KGgoAAAANSUhEUgAAAVQAAAEYCAYAAAADCA6iAAAAOXRFWHRTb2Z0d2FyZQBNYXRwbG90bGliIHZlcnNpb24zLjUuMSwgaHR0cHM6Ly9tYXRwbG90bGliLm9yZy/YYfK9AAAACXBIWXMAAAsTAAALEwEAmpwYAAAriklEQVR4nO3dd5wV1f3/8dd7d2lKU0AsgICARrGixi5qTBAsib2XGDF+rbG3n1gSYzQmJiEWLNh7RQW72AtFRMWGsYuggAiI4uLn98c5u95ddvfeu8zs7ux+njzmwdyZueec2z57yswZmRnOOeeWXUljF8A555oLD6jOOZcQD6jOOZcQD6jOOZcQD6jOOZcQD6jOOZeQTAdUSe0kPShpnqS7liGdAyQ9lmTZGoOkcZIOqedzu0l6R1K7pMtVQN6HSnq+ofN1TZ+keyTt1NjlKFSDBFRJ+0uaKGmBpBnxh79VAknvCXQHupjZXvVNxMxuMbNfJ1CeKiQNlmSS7qu2ff24fXyB6Zwr6eZ8x5nZTmZ2Qz2LezpwvZktinmOl/R9/My+lnSvpFXqmXaTIKl3fN8X5CyvN3AZTFK/ZXj+1tXKvyCmuUfOMX+S9KWkbyVdJ6lN3F4m6XZJ30h6RFLHnOecKenEPHlXfCfmx7QnSTq9Iv0Cy1/s6/8b8Ocijm9UqQfU+CFdBlxICH69gMuB3RJIfnXgPTMrTyCttHwFbC6pS862Q4D3kspAQb0/y/iDOASoHrSPMbP2QD+gPfD3+peySelsZu3jsn6xT5ZUlkahCmFmz+WUvT2wM7AAeCSW7TeEP447EH4ffYHz4tN3BwzoCswDhsfn9AF2Bf5dQBGOMbMOwCrAScC+wFhJSuYVVmVmrwIdJW2cRvqJM7PUFqAT4cPeq45j2hAC7hdxuQxoE/cNBj4jfHCzgBnAYXHfecBi4MeYx+HAucDNOWn3JnyByuLjQ4H/AfOBD4EDcrY/n/O8LYAJhC/dBGCLnH3jgQuAF2I6jwFda3ltFeW/Ejg6bisFPgfOAcbnHPsv4FPgW2ASsHXcPqTa63w9pxx/ieVYRAh644E/xP1XAPfkpP834ElANZRzG2B6tW2VacXH/we8lfP4MODt+B78Dziyhte91OcW93cBxsTX+mp8P4t5//8MvBjfjwdjerfE9CYAvWv5PKp8H6rtWzWWaQ4wHTgiZ9+5wN2EPzjfAn8gfLevja/t81im0nh8P+CZWP6vgTvi9mdj/gtj2fdJ4Dc2Ghid8/hW4MKcxzsAX8b10yo+J+CPwOVx/UFgywLyqvKdiNt6Ad8BO8fHmwIvAd/E92Yk0Lq21w+sADxEqHjMjes9quVxNTAizViV1JJ2QB0ClNf0Bc455nzgZWAloFv8oVwQ9w2Ozz8faAUMjR/eCjlf9NwAWv1x5Q8IWD7+GNaM+1YB1onrhxJ/0MCK8YM9KD5vv/i4S86X6gNgANAuPr6oltc2mBBYtgBeiduGAo8SfpS5AfVAQmAoIwSiL4G2Nb2unHJ8AqwTn9OKqgF1OUIt+FBga8IPu0ct5TwaeLi2H08s1xPAAzn7hwFrAAK2jZ/LRgV+brcDd8bPZCAhIBXz/k+PeXcCpsXX+at4/I3kBJhqr6ny+1DDvmcJLae2wAaEH/j2Oe//j8BvCa26dsB9wFXxNaxE+MNQEaxuA86Kx7YFtsrJx4B+Cf2+lif8QRucs+11cgI1oTZq8TMcBtxBqMTcET/339X2ftWQX+V3oob37m9xfRCwWfwsehP+6J5Q2+uP5dqD8H3tANwF3F8t/ROBe9OMVUktaTf5uwBfW91N8gOA881slpl9Rah5HpSz/8e4/0czG0v4y7ZmPcvzEzBQUjszm2Fmb9VwzDDgfTO7yczKzew24B1gl5xjRpvZexb6G+8k/ABrZWYvAitKWhM4mPCjr37MzWY2O+Z5KeFLn+91Xm9mb8Xn/Fgtve8I7+M/CDWrY83ss1rS6Uz4YVb3b0kVtayuwLE56T9sZh9Y8Ayhpr51znNr/NwklRJ+QOeY2UIzexPI7fct9P3/wMzmAeOAD8zsifg9uwvYsNZ3LPg69iN+I+lkST2BLYHTzOx7M5sCXEP4rCq8ZGb3m9lPQEfCH4kT4muYBfyT0PyteO2rA6vG9NIacNud8Nk8k7OtPaFmXKFivQMwltAyq6j93w6MAE6V9BdJz0q6XFLrIsvxBeEPIWY2ycxejp/dR4Q/OtvW9sT4nb/HzL4zs/mEVtdOkmZJejMeNp/wHa2RpL0lTZP0lqRbiyx7otIOqLOBrnn6nFYFPs55/HHcVplGtYD8HeFLUxQzW0hoYvwRmCHpYUlrFVCeijKtlvP4y3qU5ybgGGA7Qu2mivjDfjuesfANofbVNU+an9a108xeITTHRQj8tZlL+MFVd5yZdQLWIzTNeuSUdydJL0uaE8s7tFp5a/vcuhFqL7llz32/C3n/Z+asL6rhcb7Po6uZdY7L32Oec+IPurY8c8u7OqHmPaMiMBMCx0px/6mE9/zV+CP/fZ7yVIrHVww2bZ3n8EOAGy1W46IFhIBfoWJ9fvzjd7qZrWdmwwl9rVcCmwAbEwJfa6Dg8karEbpKkDRA0kMVg2KEsZNav8eSlpN0laSP4/HPxjIMzTmsA6ELoabn9wfOIHRZrAOcUGTZE5V2QH0J+IHQVKrNF4QvaIVecVt9LCQ0HSqsnLvTzB41sx0Jzf13CH0z+cpTUabP61mmCjcR+iHHxtpjpfjDORXYm9As7kyoQVR09Nc2JVidU4VJOppQ0/0ipl+bqYQujJozMXuD0Ef43zgA1ga4hzBI1T2Wd2xOeevyFaE7oGfOtl4562m9/3X5gtCCyP2jUj3P3Pf6U8L3Ojcwd4w/aMzsSzM7wsxWBY4ELi90ZNvM1rGfB52eq+24WKsezNKtnbeA3IG29YGZZja72vPXJXRFjQLWBSbFwDyB8Ae0ILEcg4CKsl5B+G31N7OOwJnU/b04idAS+2U8fpu4fW7OMb8APolnJkyS9FxOZegI4L9mNhcgthYaTaoBNTbJziH8EH8b/xq1irWbi+NhtwFnK5wH2TUen/cUoVpMAbaR1EtSJ8JfLgAkdZe0m6TlCT+GBYQugOrGAgMUTvUqk7QPsDahs7zezOxDQg3grBp2dyAEma+AMknnULWWMRPoXcxIvqQBhCB4IKHpf6qkDWo5/FWgs6TVatkPoVnenTAa3JoQqL8CyhXOEyzotDMzWwLcC5wbvw9rE2paFVJ5//OU6VNC3/1fJbWVtB5hkLPG76GZzSB0cVwqqaOkEklrSNoWQNJekipq83MJwbjiuzaTMPK+rA4CXjSzD6ptvxE4XNLakjoDZwPX5x4QR+RHElogPxG6AbaKTf1tCa2aOsXPblvgAcL3Z2zc1YEwVrEgBr2jqj21+uvvQGhVfCNpRUIXRHXbErpkjjWzQcDJhP5uCBWBAZJeiC2mIfnKnqbUT5uK/YEnEj7Yrwh/3Y8B7o+H/BmYSKglvQFMpp7nnZnZ44TO9qmEkfLcH2FJLMcXhObJtiz9YRP/ku9M+Ms5m1Cz29nMvq5Pmaql/byZ1VT7fpRw2st7hKbm91RtYlZctDBb0uR8+cQulpsJAwWvm9n7hJrCTarhnEEzW0z40R1YR9kXE85E+H+xaXwcoRthLrA/YYS8UMcQmuVfxnxH5+ST2vufx36EQZQvCF0yI8zsiTqOP5jwh2Ua4T24m9DygdCEfkXSAsL7cryZVQSpc4EbYlfB3stQ3oOp2vcMgJk9AlwMPE0YtPyYpYPUYcCbZjYpPr6X8Lq/Iox7jKoj35GS5hMC42WElsqQGJghBLv9Cf2eVxN+j7nOperrv4wwyPc1YXD6kdyDJW1C6C4aCNwlaQqhe6XivS4D+hNq6/sBV8c/JI1CVbtfXEslqRuh2bZhHGxzrtFI6k2oEL1LOBVspJktdWGJpCsJZ9CMjo+fBE43swkNWNxKmb701CXHzL4ys7U8mLqmxMz2MLN7gA8l7QWVF7JU9BPfT6idErsMB1BAl0VaPKA655oUSbcRBrTXlPSZpMMJp1cernCp8Fv8fKXlo4SusGmEbo5Tqg/ANSRv8jvnXEK8huqccwlptEke8mm34TFedW4h5k4Y2dhFcA2kbVlB5yrXqJiYsOi1kalM1pJPkw2ozjlXRf0nVGswHlCdc9mQzgyBifKA6pzLBq+hOudcQryG6pxzCfEaqnPOJaSktLFLkJcHVOdcNniT3znnEuJNfuecS4jXUJ1zLiFeQ3XOuYR4DdU55xJS0vTDVdMvoXPOAZR4DdU555LhfajOOZcQ70N1zrmEeA3VOecS4jVU55xLSAau5W/6dWjnnIPQ5C90KTRJqVTSa5IeqmFfG0l3SJou6RVJvfOl5wHVOZcNUuFL4Y4H3q5l3+HAXDPrB/wT+Fu+xDygOueyIeEaqqQewDDgmloO2Q24Ia7fDewg1R2tPaA657Ih+RrqZcCpwE+17F8N+BTAzMqBeUCXuhL0gOqcy4YiaqiShkuamLMMr5KUtDMwy8wmJVlEH+V3zmVDEaP8ZjYKGFXHIVsCu0oaCrQFOkq62cwOzDnmc6An8JmkMqATMLvOIhZcQueca0wJ9qGa2Rlm1sPMegP7Ak9VC6YAY4BD4vqe8RirK12voTrnsqEBTuyXdD4w0czGANcCN0maDswhBN46eUB1zmVDSpeemtl4YHxcPydn+/fAXsWk5QHVOZcNfumpc84lI88poE2CB1TnXCbIJ5h2zrlkeA3VOecS0iIDqqT/ALWeq2VmxyWdp3Ou+ctCQE3jPISJwCTC1QcbAe/HZQOgdQr5OedaAEkFL40l8Rqqmd0AIOkoYKs4qQCSrgSeSzo/51wL0fQrqKn2oa4AdCRcYQDQPm5zzrmilZQ0/Svl0wyoFwGvSXqa8LdlG+DcFPNzzjVjWehDTS2gmtloSeOAX8ZNp5nZl2nl55xr3lp0QJW0TVydG/8fIGmAmT2bVp7OuWas6cfTVJv8p+SstwU2JYz+b59ins65ZqpF11DNbJfcx5J6Em454JxzRWvRAbUGnwG/aMD8nHPNSIu+lr/aFVMlhBP7J6eVn3OueWvpNdSJOevlwG1m9kKK+TnnmrEkA6qktsCzQBtCHLzbzEZUO+ZQ4BLCvaUARppZbbecBtLtQ70h/1HOOVeYhGuoPwDbm9kCSa2A5yWNM7OXqx13h5kdU2iiaTb5+wN/BdYmjPIDYGZ908rTOdd8JRlQ4832FsSHreJS5w34CpHmtVyjgSsIzf3tgBuBm1PMzznXnKnwRdJwSRNzluFLJSeVSpoCzAIeN7NXash1D0lTJd0dz1SqU5oBtZ2ZPQnIzD42s3OBYSnm55xrxkpKSgpezGyUmW2cs4yqnp6ZLTGzDYAewKaSBlY75EGgt5mtBzwO5O3GTDOg/iCpBHhf0jGSfkeYIMU554qW1vR9ZvYN8DQwpNr22Wb2Q3x4DTAoX1ppBtTjgeWA42JBDgQOSTE/51xzVkSTP29SUjdJneN6O2BH4J1qx6yS83BX4O186aYyKCWpFNjHzE4mdPwelkY+TUFJiXjhllP5YtY89jj+ysrtl566JwfvtjndtjypyvG/3WEDbvv7H9jygIuZPO0TyspKuOKcA9hgrZ6UlZZwy8Ov8vfrHqNN6zKeuPYEWrcuo6y0lPueeI0/Xzm2Mp1zj96F3XfckCVLfuLqu5/j8tue4U8H78A+QzcBoKy0hLX6rEzP7U9n7rffNcyb4Sqdc/YZPPvMeFZcsQv3PvAQAI89Oo4r/juSD//3AbfcfhfrDFy38vj33n2HC84bwYIFCygpKeHWO+6mTZs2jVX8JinhUf5VgBtirCoB7jSzhySdD0w0szHAcZJ2JYwDzQEOzZdoKgHVzJZI2iqNtJuaY/bfjnc/nEmH5StPZGCjtXvRucNySx3bfrk2HL3/YF6d+mHltj1+tRFtWpexyd4X0q5tK16752zuHDeRT2bMYcjwf7Nw0WLKykp46roTeeyFabz6xkcctOtm9Fi5M+v/7gLMjG4rhJ6Uf974JP+88UkAhm4zkGMP2M6DaSPZ7be7s9/+B3LWGadVbuvXbwD//Nd/uOC8Kqc7Ul5ezpmnn8Jf/noJa661Ft98M5eyMr/dW3UJj/JPBTasYfs5OetnAGcUk26aTf7XJI2RdJCk3SuWFPNrcKut1JkhW63D6PterNxWUiIuPOG3nPWv+5c6fsT/7cylox/n+8XlldsMY7m2rSktLaFdm9Ys/nEJ8xd+D8DCRYsBaFVWSllZKeFMDxi+11ZcOGpc5eOv5i6gur2HbMydj0xK7LW64gzaeBM6dupUZVvfNdagd5+lzxp86cUX6D9gTdZcay0AOndegdLS0gYpZ5Zk4RYoaQbUtsBswuxSu8Rl5xTza3CXnLIHZ/3rfn766efT147aZ1sefuYNvvz62yrHbrBWD3qsvAKPPP9Wle33PvEa332/mA8f/wvvjTufy258srJWWVIiXr79dD558iKeevkdJrz5MQB9enRjz18P4vlbTuX+kUexRq9uVdJs17YVO27xC+5/ckoKr9ol7eOPPkQSfzzicPbZ83eMvvbqxi5Sk6QSFbw0lsQDqqQLAczsMOBWMzssZ/l9nudWnjtW/vVbdR3a6HbaeiCz5szntbc/rdy2SrdO7L7jhlx++zNVjpXE307ag9MuvXepdDZZpzdLlvxE31+fxS+GjeD4g7an92pdAPjpJ2OzfS+i32/OZuOBq7P2GqGPvE3rMn5Y/CNbHXAxo+99katGHFAlzWHbrMtLU/7nzf2MWLJkCa9NnsRfL76E62+6laeefIJXXn6psYvV5LTUGmruqQd/K+aJueeOlXVdJ+FiJWvzDfqy87br8s7D53HjRYcxeJMBTLr7LPr27MZbY0bwzsPnsVzbVrz5wAg6LN+GtddYhceuOZ53Hj6PTdftzd2XHclGa/di75025rEXp1Fe/hNfzV3AS1P+x6C1e1XJa96CRTwz8T1+vcXaAHw+cy73P/k6AA889ToD+69W5fi9fjOIu7y5nxkrdV+ZQYM2YYUVVqRdu3ZstfU2vD2taVcoGkNLDagtwjn/GUO/If+PtYaN4ODTRzN+wnusuu2p9NnxTNYaNoK1ho3gu+9/ZOBu5/Htgu/puf3pldtffeMj9jzhKiZP+4TPvpzD4E3WBGC5tq3ZdL3evPvRTLqu0J5O7dsB0LZNK3b45Vq8+9FMAB4cP5VtN+kPwNaD+jP9k1mV5erYvi1bDerHg+OnNvA74upryy234v3332PRokWUl5czaeIE+q7Rr7GL1eRIhS+NJY2hxJUknUg4G6xivZKZ/SOFPDPryjueZdR5BzLp7rOQ4KYHXubN979gYP9Vufr8gygtKaGkRNzz+GTGPfcmAH+/7nFGX3gIxx6wPQsX/cBR599amd6u263Pky+/w3ffL26sl+SA004+kYkTXuWbb+ay4/bbcNTRx9KpU2cuuvAC5s6ZwzH/dyRrrvkLrrz6Wjp26sRBhxzK/vvsiSS23nobttl2cGO/hCYnC9P3qWKkOLEEpRF17Tez8wpJp92GxyRbMNdkzZ0wsrGL4BpI27L63xlqwKmPFBwT3rt4SKNE38RrqIUGTOecK0ZJS56x3znnkuQB1TnnEpKBLtT0Rvkl9Slkm3POFaKlnzZ1Tw3b7k4xP+dcM9YiT5uStBawDtCp2rX7Hcm5FYpzzhUjC6dNpdGHuibhmv3OhOv3K8wHjkghP+dcC9AiB6XM7AHgAUmbm5lfkOycS0QWaqhp9qF+Kuk+SbPico+kHinm55xrxrLQh5r2XU/HAKvG5cG4zTnnipbkKL+ktpJelfS6pLckLXVBkqQ2ku6QNF3SK5J650s3zYC6kpmNNrPyuFwPdMv3JOecq0nCNdQfgO3NbH1gA2CIpM2qHXM4MNfM+gH/pIDZ89IMqF9LOlDh3telkg4kTDjtnHNFS7KGakHFrS5axaX6XAG78fOto+8GdlCexNMMqL8H9ga+BGYAe9KMb9bnnEtXSYkKXnInq4/L8OrpxYreFGAW8LiZvVLtkNWATwHMrByYB3Spq4ypXXpqZh8Tbr3qnHPLrJjBJjMbBYzKc8wSYAOF20nfJ2mgmb25LGVM48T+c+rYbWZ2QdJ5Oueav7ROmzKzbyQ9TbjbSG5A/RzoCXwmqQzoRJ5uyzSa/AtrWCB08J5W25Occ64uSQ5KSeoWa6ZIagfsCLxT7bAxwCFxfU/gKcszgXQaJ/ZfWrEuqQNwPKHv9Hbg0tqe55xzdUm4hroKcIOkUkLF8k4ze0jS+cBEMxsDXAvcJGk6MAfYN1+iqfShSloROBE4gDBKtpGZzU0jL+dcy5BkPDWzqcCGNWw/J2f9e2CvYtJNow/1EmB3QofwujmnJjjnXL2VlDT9e4qmUcKTCFdGnQ18IenbuMyX9G0K+TnnWoAsXHqaRh9q0/8z4pzLnCxMjuK3QHHOZUIG4qkHVOdcNngN1TnnEpKBeOoB1TmXDaUtccZ+55xLgzf5nXMuIRmooHpAdc5lg9dQnXMuIRmIpx5QnXPZIJp+RPWA6pzLBB/ld865hHiT3znnElKSgYjqE5k45zIh4Rn7e0p6WtI0SW9JOr6GYwZLmidpSlzqur0T4DVU51xGJHzaVDlwkplNjncWmSTpcTObVu2458xs50IT9YDqnMuEhGfsn0G4vT1mNl/S24TbRlcPqEXxJr9zLhNKpYIXScMlTcxZhteWrqTehNuhvFLD7s0lvS5pnKR18pXRa6jOuUwopslvZqMIt2HKl2Z74B7gBDOrfkeRycDqZrZA0lDgfqB/XenVGlAl/Qeo9ZapZnZcvsI651xSkj4NVVIrQjC9xczurb4/N8Ca2VhJl0vqamZf15ZmXTXUictUWuecS1CSg1IKiV0LvG1m/6jlmJWBmWZmkjYldJHOrivdWgOqmd2wDOV1zrlEJXwa6pbAQcAbkqbEbWcCvQDM7EpgT+AoSeXAImBfM6u11Q4F9KFK6gacBqwNtK3YbmbbF/8anHOufpKsoZrZ81D35ABmNhIYWUy6hYzy3wK8DfQBzgM+AiYUk4lzzi2r0hIVvDSWQgJqFzO7FvjRzJ4xs98DXjt1zjUoFbE0lkJOm/ox/j9D0jDgC2DF9IrknHNLy8K1/IUE1D9L6gScBPwH6Aj8KdVSOedcNRmIp/kDqpk9FFfnAdulWxznnKtZs7gFiqTR1HCCf+xLdc65BpGBeFpQk/+hnPW2wO8I/ajOOddgmsWM/WZ2T+5jSbcBz6dWIuecq0GzaPLXoD+wUtIFqW7uhKLOp3XONXNZmBqvkD7U+VTtQ/2ScOWUc841mGZRQzWzDg1REOecq0sGulDz16IlPVnINuecS1OJCl8aS13zobYFlgO6SlqBn6/o6ki4VYBzzjWYrI/yHwmcAKwKTOLngPotRc7A4pxzyyoDXah1zof6L+Bfko41s/80YJmcc24pWbiWv5AzEX6S1LnigaQVJP1fekVyzrmllRSxNJZC8j7CzL6peGBmc4EjUiuRc87VQCp8yZ+Wekp6WtI0SW9JOr6GYyTp35KmS5oqaaN86RZyYn+pJFVM/S+pFGhdwPOccy4xCTf5y4GTzGyypA7AJEmPm9m0nGN2IlzI1B/4JXBF/L9WhQTUR4A7JF0VHx8JjCu29M45tyxKE2zLm9kMYEZcny/pbcLZS7kBdTfgxliZfFlSZ0mrxOfWqJCAehowHPhjfDwVWLker8E55+qtmBqqpOGEuFVhlJmNquXY3sCGwCvVdq0GfJrz+LO4rf4B1cx+kvQKsAawN9CVcC9r55xrMMW0+GPwrDGAVk1T7Qnx7AQz+7behYvqOrF/ALBfXL4G7ogF9UmmnXMNLunz+iW1IgTTW8zs3hoO+RzomfO4R9xWq7p6Jd4h3IxvZzPbKp6LuqS4IjvnXDJUxL+8aYWZVq4F3jazf9Ry2Bjg4Djavxkwr67+U6i7yb87sC/wtKRHgNtp3BsKOudasIRrqFsCBwFvSJoSt50J9AIwsyuBscBQYDrwHXBYvkTrulLqfuB+ScsTRrtOAFaSdAVwn5k9Vs8X4pxzRUvyWn4ze548FcQ4un90MenmPRHBzBaa2a1mtguhD+E1fD5U51wDy8JsU0Wd2WVmc81slJntkFaBnHOuJkleKZWW+twCxTnnGlwWJkfxgOqcy4QMTIfqAdU5lw0ZqKB6QHXOZUNpBiKqB1TnXCZ4k9855xLig1LOOZeQDMRTD6jOuWzwGqpzziUkA/HUA6pzLht8lN855xLS9MOpB1TnXEZ4H6pzziWk6YdTD6jOuYzIQAW1uOn7nHOusUgqeCkwveskzZL0Zi37B0uaJ2lKXM7Jl6bXUJ1zmZDCKP/1wEjgxjqOec7Mdi40Qa+hOucyQUUshTCzZ4E5SZbRA6pzLhOKafJLGi5pYs4yvJ7Zbi7pdUnjJK2T72Bv8jvnMqGY2p+ZjQJGLWOWk4HVzWyBpKHA/UD/up7gNVTnXCYkPSiVj5l9a2YL4vpYoJWkrnU9xwOqcy4Tku5DzZuftLJidJa0KSFezq7rOd7kd85lQtKj/JJuAwYDXSV9BowAWgGY2ZXAnsBRksqBRcC+ZmZ1pekB1TmXCUmfNWVm++XZP5JwWlXBPKA65zJBGbj41AOqcy4TsnDpaSoBVdKKde03s0RPpnXONX8lLbiGOgkwwoBbL2BuXO8MfAL0SSlf51wzlYUaaiqnTZlZHzPrCzwB7GJmXc2sC7Az8FgaeTrnmrcSqeCl0cqYcvqbxRNiATCzccAWKefpnGuGSlT40ljSHpT6QtLZwM3x8QHAFynn6ZxrhrIwyp92DXU/oBtwX1xWitucc64oUuFLY0m1hhpH849PMw/nXMuQhRpqqgFV0tOE0f4qzGz7NPPNop123J7lll+e0pISSstKue3Oexu7SK4eavocTznpBD7+8EMA5s+fT4cOHbjz3gcAuPbqq7jvnrspKS3htDPOZsuttubLGTM464xTmTN7NkjsudfeHHDQIY35spqExuwbLVTafagn56y3BfYAylPOM7OuGX0DK6xQ5ym8LgOqf46XXHpZ5frfL76I9u3bA/DB9Ok8MvZh7h3zMLNmzeTIPxzGmIcfpbSslJNPPZ1frL0OCxcuYN+99mCzzbdkjX79GvqlNCkt/q6nZjap2qYXJL2aZp7ONVVmxmOPjuPq624AYPzTTzJk6DBat25Njx496dlzdd58Yyrrb7Ah3bqtBMDyy7enb9++zJo1s8UH1KYfTtNv8udWt0qAQUCnNPPMLMEfjzgcSey51z7sufc+jV0iVx91fI6TJ02kS5curL56bwBmzpzJeuuvX7m/+8rdmTVzZpXkPv/8M955+23WXW99WroWX0Ol6hVT5cCHwOG1HRxvUzAcYOTlV3H4EfW9a0H2XH/TbXTv3p3Zs2fzxz8cRp++fRm08SaNXSxXpLo+x3FjH2LI0ILv98Z3Cxdy0gnHccrpZ1Z2E7RkTT+cpt/kL+oS09zbFnxfvvRgVnPWvXt3ALp06cL2v9qRN9+Y6gE1g2r7HMvLy3nyice5PWewsXv37sz88svKxzO/nMlK8fk//vgjJ55wHEOH7cKvdvx1w76IpioDETX1GfslDZS0t6SDK5a088ya7777joULF1Suv/TiC/TrV+eta1wTVNfn+MpLL9KnT1+6r7xy5fHbbrc9j4x9mMWLF/PZZ5/yyScfMXDd9TAzzj3nLPr27cvBhx7WKK+lKVIR/wpKT7pO0ixJb9ayX5L+LWm6pKmSNsqXZtp9qCMIM2KvDYwFdgKep+77YLc4c2bP5k/HHQ1A+ZIlDB22M1tuvU0jl8oVq67P8ZFxYxkydFiV4/v168+vh+zE73YdSmlpKWeefQ6lpaVMnjSRh8Y8QP8BA9h7990AOPaEE9l6m20b9gU1MSmcNnU9YQLp2uLRToSb8vUHfglcEf+vlfLM6L9MJL0BrA+8ZmbrS+oO3GxmO+Z7bktr8jvXErQtq3/DfcKH8wqOCZv06VRQPpJ6Aw+Z2cAa9l0FjDez2+Ljd4HBZjajtvTSbvIvMrOfgHJJHYFZQM+U83TONUPFNPklDZc0MWepzwj3asCnOY8/i9tqlfYo/0RJnYGrCSP+C4CXUs7TOdcMFXPWVO4Ad0NKLaDG26/+1cy+Aa6U9AjQ0cymppWnc675aoRB/s+p2qLuEbfVKrUmf7zdau5cqB95MHXO1ZuKWJIxBjg4jvZvBsyrq/8U0m/yT5a0iZlNSDkf51wzl/SVUpJuI5yF1FXSZ8AIoBWAmV1JqBAOBaYD3wF5z2FLe5T/HcIpBx8BCwl/O8zM1sv3XB/ld675WZZR/tc/mV9wTFi/V4dGuQwgrbue9jKzT4DfpJG+c64FysCVUmk1+e8HNjKzjyXdY2Z7pJSPc66FaMkTTOe+8r4p5eGca0EyMNlUagHVall3zrl6yUA8TS2gri/pW8J70C6uw8+DUh1Tytc510wpA1XUVAKqmZWmka5zruXKQDxN/TxU55xLRAbiqQdU51xGZCCiekB1zmVCSz5tyjnnEuV9qM45lxAPqM45lxBv8jvnXEK8huqccwnJQDz1gOqcy4gMRFQPqM65TMhCH2radz11zrlElKjwpRCShkh6V9J0SafXsP9QSV9JmhKXP+RL02uozrlsSLCCKqkU+C+wI+H20BMkjTGzadUOvcPMjik0Xa+hOucyQUX8K8CmwHQz+5+ZLQZuB3Zb1jJ6QHXOZYJUzKLhkibmLMOrJbca8GnO48/itur2kDRV0t2Setawvwpv8jvnMqGYFr+ZjQJGLWOWDwK3mdkPko4EbgC2r+sJXkN1zmVCMTXUAnwO5NY4e8Rtlcxstpn9EB9eAwzKl6gHVOdcJkgqeCnABKC/pD6SWgP7AmOq5bdKzsNdgbfzJepNfudcJiR5FqqZlUs6BngUKAWuM7O3JJ0PTDSzMcBxknYFyoE5wKF5y2jWNO+h932539zPueambVn94+KMeYsLjgmrdGrdKFcBeA3VOZcJWbhSygOqcy4bmn489YDqnMuGDMRTD6jOuWwoycCEqB5QnXPZ0PTjqQdU51w2ZCCeekB1zmVDBlr8HlCdc9ngp00551xCvIbqnHMJ8YDqnHMJ8Sa/c84lxGuozjmXkAzEUw+ozrmMyEBE9YDqnMsE70N1zrmElDT9eOoB1TmXER5QnXMuGd7kd865hGThtKkme0+plkrS8HhPcdfM+Wfd/PhtpJue4Y1dANdg/LNuZjygOudcQjygOudcQjygNj3ep9Zy+GfdzPiglHPOJcRrqM45lxAPqM45lxAPqEWSZJIuzXl8sqRz8zznt5LWrmXfuZI+lzQlLhclXGQkHSppZNLpup9JWpLzGU6R1DuFPD6S1DXpdF1y/Eqp4v0A7C7pr2b2dYHP+S3wEDCtlv3/NLO/17RDUpmZlRdfTNfAFpnZBjXtkCTCeMVPDVsk19C8hlq8csLo7J+q75DUW9JTkqZKelJSL0lbALsCl8Sayxr5MpB0vaQrJb0CXCxpU0kvSXpN0ouS1ozHVal5SnpI0uC4fpik9yS9CmyZxAt3hYvfhXcl3Qi8CfSUdIWkiZLeknRezrGVNU9JG0saH9e7SHosHn8NmZgepGXzgFo//wUOkNSp2vb/ADeY2XrALcC/zexFYAxwipltYGYf1JDen3Kair+J23oAW5jZicA7wNZmtiFwDnBhXYWTtApwHiGQbgXU2N3gEtUu5zO8L27rD1xuZuuY2cfAWWa2MbAesK2k9fKkOQJ43szWAe4DeqVWepcIb/LXg5l9G2sexwGLcnZtDuwe128CLi4wySpNfkn7AXeZ2ZK4qRNwg6T+gAGt8qT3S2C8mX0V07sDGFBgWVz9VGnyxz7Uj83s5Zxj9pY0nPC7W4Xwh25qHWluQ/w+mdnDkuYmXWiXLK+h1t9lwOHA8imlvzBn/QLgaTMbCOwCtI3by6n6GbbFNSWVn6GkPsDJwA6xBfMwNX+O/hlmmAfUejKzOcCdhKBa4UVg37h+APBcXJ8PdFiG7DoBn8f1Q3O2fwRsIKlEUk9g07j9FUKTsoukVsBey5C3S0ZHQoCdJ6k7sFPOvo+AQXF9j5ztzwL7A0jaCVgh/WK6ZeEBddlcCuSexnIscJikqcBBwPFx++3AKXFQKe+gVA0uBv4q6TWqdtO8AHxIOHvg38BkADObAZwLvBSPebseeboEmdnrwGuE/vBbCZ9LhfOAf0maCCyptn0bSW8Rmv6fNFBxXT35pafOOZcQr6E651xCPKA651xCPKA651xCPKA651xCPKA651xCPKC6guXMqPSmpLskLbcMaV0vac+4fk1ts3HF/YPjnAjF5uGzM7kG5QHVFWNRnI9gILAY+GPuTkn1upTZzP5gZrXNxAUwGCg6oDrX0Dyguvp6DugXa4/PSRoDTJNUKukSSRPirFtHQpjCTtLIOAPTE8BKFQlJGi9p47g+RNJkSa/HGbt6EwJ3xQQyW0vqJumemMcESVvG5/rsTK5R+eQormixJroT8EjctBEw0Mw+jJN/zDOzTSS1AV6Q9BiwIbAmYUKQ7oSru66rlm434Gpgm5jWimY2R9KVwIKKCWQk3UqYUOZ5Sb2AR4Ff8PPsTOdLGkbVy4KdS50HVFeMdpKmxPXngGsJTfFXzezDuP3XwHoV/aOEeQj6E2ZOui3OoPWFpKdqSH8z4NmKtOJ8CTX5FbC2VFkB7SipPT47k2tkHlBdMZaalT4GtdyZsQQca2aPVjtuaILlKAE2M7PvayiLc43G+1Bd0h4FjoqzXCFpgKTlCTMn7RP7WFcBtqvhuS8TJgPpE5+7YtxefbauxwgT0RCP2yCu+uxMrlF5QHVJu4bQPzpZ0pvAVYSW0H3A+3HfjYSZsKqIE2IPB+6V9DpwR9z1IPC7ikEpwsTeG8dBr2n8fLaBz87kGpXPNuWccwnxGqpzziXEA6pzziXEA6pzziXEA6pzziXEA6pzziXEA6pzziXEA6pzziXk/wNu8SdBdoNXkwAAAABJRU5ErkJggg==\n",
       "datasetInfos": [],
       "metadata": {},
       "removedWidgets": [],
       "type": "image"
      }
     },
     "output_type": "display_data"
    }
   ],
   "source": [
    "from pyspark.ml.classification import RandomForestClassifier\n",
    "from sklearn.metrics import classification_report, confusion_matrix, accuracy_score\n",
    "import matplotlib.pyplot as plt\n",
    "import seaborn as sns\n",
    "\n",
    "#Used 70% of data\n",
    "df_70 = df_weighted.sample(withReplacement=False, fraction=0.7, seed=42)\n",
    "rf = RandomForestClassifier(\n",
    "    featuresCol=\"features\",\n",
    "    labelCol=\"isFraud\",\n",
    "    weightCol=\"classWeightCol\",\n",
    "    numTrees=100,\n",
    "    maxDepth=10,\n",
    "    seed=42\n",
    ")\n",
    "\n",
    "rf_model = rf.fit(df_70)\n",
    "\n",
    "#Make predictions\n",
    "predictions_70 = rf_model.transform(df_70)\n",
    "pred_pd = predictions_70.select(\"isFraud\", \"prediction\").toPandas()\n",
    "y_true = pred_pd[\"isFraud\"]\n",
    "y_pred = pred_pd[\"prediction\"]\n",
    "\n",
    "# Accuracy\n",
    "acc = accuracy_score(y_true, y_pred)\n",
    "print(f\"Accuracy: {acc:.4f}\")\n",
    "\n",
    "# Classification Report\n",
    "print(\"Classification Report:\")\n",
    "print(classification_report(y_true, y_pred, digits=4))\n",
    "\n",
    "# Confusion Matrix\n",
    "cm = confusion_matrix(y_true, y_pred)\n",
    "plt.figure(figsize=(5, 4))\n",
    "sns.heatmap(cm, annot=True, fmt=\"d\", cmap=\"Blues\",\n",
    "            xticklabels=[\"Not Fraud\", \"Fraud\"],\n",
    "            yticklabels=[\"Not Fraud\", \"Fraud\"])\n",
    "plt.title(\"Confusion Matrix (Random Forest - 70% Data)\")\n",
    "plt.xlabel(\"Predicted\")\n",
    "plt.ylabel(\"Actual\")\n",
    "plt.tight_layout()\n",
    "plt.show()\n"
   ]
  },
  {
   "cell_type": "markdown",
   "metadata": {
    "application/vnd.databricks.v1+cell": {
     "cellMetadata": {},
     "inputWidgets": {},
     "nuid": "e15aef1e-a41c-400d-8c4d-7266d3cdecf9",
     "showTitle": false,
     "tableResultSettingsMap": {},
     "title": ""
    }
   },
   "source": [
    "Model Implementation - Random Forest using 85% of data"
   ]
  },
  {
   "cell_type": "code",
   "execution_count": 0,
   "metadata": {
    "application/vnd.databricks.v1+cell": {
     "cellMetadata": {
      "byteLimit": 2048000,
      "rowLimit": 10000
     },
     "inputWidgets": {},
     "nuid": "e39a21be-9080-4118-b5c5-f8cabffc2c35",
     "showTitle": false,
     "tableResultSettingsMap": {},
     "title": ""
    }
   },
   "outputs": [
    {
     "output_type": "stream",
     "name": "stdout",
     "output_type": "stream",
     "text": [
      "Accuracy: 1.0000\nClassification Report:\n              precision    recall  f1-score   support\n\n           0     1.0000    1.0000    1.0000   5400770\n           1     0.9886    0.9983    0.9934      6976\n\n    accuracy                         1.0000   5407746\n   macro avg     0.9943    0.9991    0.9967   5407746\nweighted avg     1.0000    1.0000    1.0000   5407746\n\n"
     ]
    },
    {
     "output_type": "display_data",
     "data": {
      "image/png": "[encoded data removed]"
     },
     "metadata": {
      "application/vnd.databricks.v1+output": {
       "addedWidgets": {},
       "arguments": {},
       "data": "data:image/png;base64,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\n",
       "datasetInfos": [],
       "metadata": {},
       "removedWidgets": [],
       "type": "image"
      }
     },
     "output_type": "display_data"
    }
   ],
   "source": [
    "from pyspark.ml.classification import RandomForestClassifier\n",
    "from sklearn.metrics import classification_report, confusion_matrix, accuracy_score\n",
    "import matplotlib.pyplot as plt\n",
    "import seaborn as sns\n",
    "\n",
    "# Used 85% of dataset\n",
    "df_85 = df_weighted.sample(withReplacement=False, fraction=0.85, seed=42)\n",
    "rf = RandomForestClassifier(\n",
    "    featuresCol=\"features\",\n",
    "    labelCol=\"isFraud\",\n",
    "    weightCol=\"classWeightCol\",\n",
    "    numTrees=100,\n",
    "    maxDepth=10,\n",
    "    seed=42\n",
    ")\n",
    "rf_model = rf.fit(df_85)\n",
    "\n",
    "#Make predictions\n",
    "predictions_85 = rf_model.transform(df_85)\n",
    "pred_pd = predictions_85.select(\"isFraud\", \"prediction\").toPandas()\n",
    "y_true = pred_pd[\"isFraud\"]\n",
    "y_pred = pred_pd[\"prediction\"]\n",
    "\n",
    "# Accuracy\n",
    "acc = accuracy_score(y_true, y_pred)\n",
    "print(f\"Accuracy: {acc:.4f}\")\n",
    "\n",
    "# Classification Report\n",
    "print(\"Classification Report:\")\n",
    "print(classification_report(y_true, y_pred, digits=4))\n",
    "\n",
    "# Confusion Matrix\n",
    "cm = confusion_matrix(y_true, y_pred)\n",
    "plt.figure(figsize=(5, 4))\n",
    "sns.heatmap(cm, annot=True, fmt=\"d\", cmap=\"Blues\",\n",
    "            xticklabels=[\"Not Fraud\", \"Fraud\"],\n",
    "            yticklabels=[\"Not Fraud\", \"Fraud\"])\n",
    "plt.title(\"Confusion Matrix (Random Forest - 85% Data)\")\n",
    "plt.xlabel(\"Predicted\")\n",
    "plt.ylabel(\"Actual\")\n",
    "plt.tight_layout()\n",
    "plt.show()\n"
   ]
  },
  {
   "cell_type": "markdown",
   "metadata": {
    "application/vnd.databricks.v1+cell": {
     "cellMetadata": {},
     "inputWidgets": {},
     "nuid": "999286b1-6aa1-40e0-8900-fbb692aa87fa",
     "showTitle": false,
     "tableResultSettingsMap": {},
     "title": ""
    }
   },
   "source": [
    "Running model again with Stratify technique"
   ]
  },
  {
   "cell_type": "code",
   "execution_count": 0,
   "metadata": {
    "application/vnd.databricks.v1+cell": {
     "cellMetadata": {
      "byteLimit": 2048000,
      "rowLimit": 10000
     },
     "inputWidgets": {},
     "nuid": "2fdc9f5a-fdf8-4307-a5e8-53afd50fe2bd",
     "showTitle": false,
     "tableResultSettingsMap": {},
     "title": ""
    }
   },
   "outputs": [],
   "source": [
    "from pyspark.sql import SparkSession\n",
    "from pyspark.sql.functions import when, col\n",
    "from pyspark.ml import Pipeline\n",
    "from pyspark.ml.feature import VectorAssembler, StandardScaler\n",
    "from pyspark.ml.classification import RandomForestClassifier\n",
    "from pyspark.ml.evaluation import BinaryClassificationEvaluator\n",
    "from pyspark.mllib.evaluation import MulticlassMetrics"
   ]
  },
  {
   "cell_type": "code",
   "execution_count": 0,
   "metadata": {
    "application/vnd.databricks.v1+cell": {
     "cellMetadata": {
      "byteLimit": 2048000,
      "rowLimit": 10000
     },
     "inputWidgets": {},
     "nuid": "75024181-123c-4457-9eeb-eb8ae7bc4ca5",
     "showTitle": false,
     "tableResultSettingsMap": {},
     "title": ""
    }
   },
   "outputs": [
    {
     "output_type": "stream",
     "name": "stdout",
     "output_type": "stream",
     "text": [
      "50% sample — TRAIN TIME: 854.10 sec\n"
     ]
    }
   ],
   "source": [
    "from pyspark.sql.functions import col, when\n",
    "from pyspark.ml.feature import StringIndexer, OneHotEncoder, VectorAssembler, StandardScaler\n",
    "from pyspark.ml.classification import RandomForestClassifier\n",
    "from pyspark.ml import Pipeline\n",
    "import time\n",
    "\n",
    "# 1) Load raw data\n",
    "raw = spark.read.csv(\"/FileStore/tables/Synthetic_Financial_datasets_log.csv\",\n",
    "                     header=True, inferSchema=True)\n",
    "\n",
    "# 2) Preprocess & feature‐engineering\n",
    "df = (raw\n",
    "      .drop(\"nameOrig\", \"nameDest\", \"isFlaggedFraud\", \"step\")\n",
    "      .withColumn(\"deltaOrig\", col(\"oldbalanceOrg\") - col(\"newbalanceOrig\"))\n",
    "      .withColumn(\"deltaDest\", col(\"newbalanceDest\") - col(\"oldbalanceDest\"))\n",
    "      .withColumn(\"amount_to_orig_ratio\", col(\"amount\")/(col(\"oldbalanceOrg\")+1))\n",
    "      .withColumn(\"amount_to_dest_ratio\",  col(\"amount\")/(col(\"oldbalanceDest\")+1))\n",
    "     )\n",
    "\n",
    "# index + one‐hot your “type” column\n",
    "si = StringIndexer(inputCol=\"type\", outputCol=\"type_idx\", handleInvalid=\"keep\")\n",
    "df = si.fit(df).transform(df)\n",
    "ohe = OneHotEncoder(inputCols=[\"type_idx\"], outputCols=[\"type_vec\"])\n",
    "df = ohe.fit(df).transform(df)\n",
    "\n",
    "# 3) Stratified 50% sample then 80/20 train/test split\n",
    "sample = df.stat.sampleBy(\"isFraud\", {0:0.5, 1:0.5}, seed=2025)\n",
    "train = sample.stat.sampleBy(\"isFraud\", {0:0.8, 1:0.8}, seed=2025)\n",
    "# (we’ll re‐derive test in Cell 2)\n",
    "\n",
    "# 4) Build pipeline\n",
    "feature_cols = [\n",
    "    'amount','oldbalanceOrg','newbalanceOrig',\n",
    "    'oldbalanceDest','newbalanceDest',\n",
    "    'deltaOrig','deltaDest',\n",
    "    'amount_to_orig_ratio','amount_to_dest_ratio',\n",
    "    'type_vec'\n",
    "]\n",
    "assembler = VectorAssembler(inputCols=feature_cols, outputCol=\"rawFeatures\")\n",
    "scaler    = StandardScaler(inputCol=\"rawFeatures\", outputCol=\"features\",\n",
    "                            withStd=True, withMean=False)\n",
    "\n",
    "# compute class‐weights\n",
    "total = train.count()\n",
    "frauds = train.filter(col(\"isFraud\")==1).count()\n",
    "w = 1.0/(frauds/total)\n",
    "train = train.withColumn(\"weight\",\n",
    "                         when(col(\"isFraud\")==1, w).otherwise(1.0))\n",
    "\n",
    "rf = RandomForestClassifier(labelCol=\"isFraud\",\n",
    "                            featuresCol=\"features\",\n",
    "                            weightCol=\"weight\",\n",
    "                            numTrees=100, maxDepth=8, seed=42)\n",
    "\n",
    "pipeline = Pipeline(stages=[assembler, scaler, rf])\n",
    "\n",
    "# 5) Train & time\n",
    "start = time.time()\n",
    "model = pipeline.fit(train)\n",
    "print(f\"50% sample — TRAIN TIME: {time.time()-start:.2f} sec\")\n",
    "\n",
    "# 6) Save model to DBFS\n",
    "model.write().overwrite().save(\"dbfs:/FileStore/models/rf_50pct_model\")\n"
   ]
  },
  {
   "cell_type": "code",
   "execution_count": 0,
   "metadata": {
    "application/vnd.databricks.v1+cell": {
     "cellMetadata": {
      "byteLimit": 2048000,
      "rowLimit": 10000
     },
     "inputWidgets": {},
     "nuid": "74a0b89a-f511-4804-bf74-67037916ca7e",
     "showTitle": false,
     "tableResultSettingsMap": {},
     "title": ""
    }
   },
   "outputs": [
    {
     "output_type": "stream",
     "name": "stdout",
     "output_type": "stream",
     "text": [
      "Accuracy: 0.9975\n=== Confusion Matrix ===\n[[624662.   1565.]\n [     0.    843.]]\n\n=== Classification Report ===\nClass 0 — precision: 1.0000, recall:    0.9975, f1-score:  0.9987, support:   626227\nClass 1 — precision: 0.3501, recall:    1.0000, f1-score:  0.5186, support:   843\n"
     ]
    }
   ],
   "source": [
    "from pyspark.ml import PipelineModel\n",
    "from pyspark.ml.functions import vector_to_array\n",
    "from pyspark.sql.functions import when, col\n",
    "from pyspark.mllib.evaluation import MulticlassMetrics\n",
    "\n",
    "# 1) Reload the saved pipeline\n",
    "model = PipelineModel.load(\"dbfs:/FileStore/models/rf_50pct_model\")\n",
    "\n",
    "# 2) Re‐create the same 50% sample & 80/20 split to get your test set\n",
    "raw = spark.read.csv(\"/FileStore/tables/Synthetic_Financial_datasets_log.csv\",\n",
    "                     header=True, inferSchema=True)\n",
    "\n",
    "df = (raw\n",
    "      .drop(\"nameOrig\", \"nameDest\", \"isFlaggedFraud\", \"step\")\n",
    "      .withColumn(\"deltaOrig\", col(\"oldbalanceOrg\") - col(\"newbalanceOrig\"))\n",
    "      .withColumn(\"deltaDest\", col(\"newbalanceDest\") - col(\"oldbalanceDest\"))\n",
    "      .withColumn(\"amount_to_orig_ratio\", col(\"amount\")/(col(\"oldbalanceOrg\")+1))\n",
    "      .withColumn(\"amount_to_dest_ratio\", col(\"amount\")/(col(\"oldbalanceDest\")+1))\n",
    "     )\n",
    "\n",
    "si  = StringIndexer(inputCol=\"type\", outputCol=\"type_idx\", handleInvalid=\"keep\")\n",
    "df  = si.fit(df).transform(df)\n",
    "ohe = OneHotEncoder(inputCols=[\"type_idx\"], outputCols=[\"type_vec\"])\n",
    "df  = ohe.fit(df).transform(df)\n",
    "\n",
    "sample = df.stat.sampleBy(\"isFraud\", {0:0.5, 1:0.5}, seed=2025)\n",
    "train  = sample.stat.sampleBy(\"isFraud\", {0:0.8, 1:0.8}, seed=2025)\n",
    "test   = sample.subtract(train)\n",
    "\n",
    "# 3) Run prediction, converting vector → array then threshold\n",
    "preds = (\n",
    "    model.transform(test)\n",
    "         .withColumn(\"prob_arr\", vector_to_array(col(\"probability\")))\n",
    "         .withColumn(\"pred_label\", when(col(\"prob_arr\")[1] > 0.1, 1).otherwise(0))\n",
    ")\n",
    "\n",
    "# 4) Build RDD & metrics\n",
    "pred_and_lbl = preds.select(\"pred_label\",\"isFraud\") \\\n",
    "                    .rdd.map(lambda r: (float(r[0]), float(r[1])))\n",
    "metrics = MulticlassMetrics(pred_and_lbl)\n",
    "\n",
    "# Overall accuracy\n",
    "accuracy = metrics.accuracy\n",
    "print(f\"Accuracy: {accuracy:.4f}\")\n",
    "\n",
    "# Confusion Matrix\n",
    "print(\"=== Confusion Matrix ===\")\n",
    "print(metrics.confusionMatrix().toArray())\n",
    "\n",
    "# Classification report\n",
    "#  Extract distinct labels from the RDD\n",
    "labels = sorted(pred_and_lbl.map(lambda x: x[1]).distinct().collect())\n",
    "\n",
    "#  Support counts\n",
    "support_counts = dict(\n",
    "    test.groupBy(\"isFraud\").count().rdd\n",
    "        .map(lambda r: (float(r[0]), r[1]))\n",
    "        .collect()\n",
    ")\n",
    "\n",
    "print(\"\\n=== Classification Report ===\")\n",
    "for label in labels:\n",
    "    precision = metrics.precision(label)\n",
    "    recall    = metrics.recall(label)\n",
    "    f1        = metrics.fMeasure(label)\n",
    "    support   = support_counts.get(label, 0)\n",
    "    print(f\"Class {int(label)} — \"\n",
    "          f\"precision: {precision:.4f}, \"\n",
    "          f\"recall:    {recall:.4f}, \"\n",
    "          f\"f1-score:  {f1:.4f}, \"\n",
    "          f\"support:   {support}\")\n"
   ]
  },
  {
   "cell_type": "code",
   "execution_count": 0,
   "metadata": {
    "application/vnd.databricks.v1+cell": {
     "cellMetadata": {
      "byteLimit": 2048000,
      "rowLimit": 10000
     },
     "inputWidgets": {},
     "nuid": "eb85ba33-02ee-4118-b2ec-9d17d2ed164c",
     "showTitle": false,
     "tableResultSettingsMap": {},
     "title": ""
    }
   },
   "outputs": [
    {
     "output_type": "stream",
     "name": "stdout",
     "output_type": "stream",
     "text": [
      "30% sample — TRAIN TIME: 534.85 sec\n"
     ]
    }
   ],
   "source": [
    "from pyspark.sql.functions import col, when\n",
    "from pyspark.ml.feature import StringIndexer, OneHotEncoder, VectorAssembler, StandardScaler\n",
    "from pyspark.ml.classification import RandomForestClassifier\n",
    "from pyspark.ml import Pipeline\n",
    "import time\n",
    "\n",
    "# 1) Load raw data\n",
    "raw = spark.read.csv(\n",
    "    \"/FileStore/tables/Synthetic_Financial_datasets_log.csv\",\n",
    "    header=True,\n",
    "    inferSchema=True\n",
    ")\n",
    "\n",
    "# 2) Preprocess & feature engineering\n",
    "df = (raw\n",
    "      .drop(\"nameOrig\", \"nameDest\", \"isFlaggedFraud\", \"step\")\n",
    "      .withColumn(\"deltaOrig\", col(\"oldbalanceOrg\") - col(\"newbalanceOrig\"))\n",
    "      .withColumn(\"deltaDest\", col(\"newbalanceDest\") - col(\"oldbalanceDest\"))\n",
    "      .withColumn(\"amount_to_orig_ratio\", col(\"amount\")/(col(\"oldbalanceOrg\")+1))\n",
    "      .withColumn(\"amount_to_dest_ratio\", col(\"amount\")/(col(\"oldbalanceDest\")+1))\n",
    ")\n",
    "\n",
    "# index + one-hot encode 'type'\n",
    "si  = StringIndexer(inputCol=\"type\", outputCol=\"type_idx\", handleInvalid=\"keep\")\n",
    "df  = si.fit(df).transform(df)\n",
    "ohe = OneHotEncoder(inputCols=[\"type_idx\"], outputCols=[\"type_vec\"])\n",
    "df  = ohe.fit(df).transform(df)\n",
    "\n",
    "# 3) Stratified 30% sample then 80/20 train/test split\n",
    "sample = df.stat.sampleBy(\"isFraud\", {0: 0.3, 1: 0.3}, seed=2025)\n",
    "train  = sample.stat.sampleBy(\"isFraud\", {0: 0.8, 1: 0.8}, seed=2025)\n",
    "# (test split reserved for Cell 2)\n",
    "\n",
    "# 4) Assemble features & scale\n",
    "toolkit = VectorAssembler(inputCols=[\n",
    "    'amount','oldbalanceOrg','newbalanceOrig',\n",
    "    'oldbalanceDest','newbalanceDest',\n",
    "    'deltaOrig','deltaDest',\n",
    "    'amount_to_orig_ratio','amount_to_dest_ratio',\n",
    "    'type_vec'\n",
    "], outputCol=\"rawFeatures\")\n",
    "scaler = StandardScaler(inputCol=\"rawFeatures\", outputCol=\"features\",\n",
    "                        withStd=True, withMean=False)\n",
    "\n",
    "# 5) Compute class weights on training set\n",
    "total   = train.count()\n",
    "frauds  = train.filter(col(\"isFraud\")==1).count()\n",
    "weight  = 1.0/(frauds/total)\n",
    "train   = train.withColumn(\"weight\", when(col(\"isFraud\")==1, weight).otherwise(1.0))\n",
    "\n",
    "# 6) Random Forest classifier\n",
    "rf = RandomForestClassifier(\n",
    "    labelCol=\"isFraud\",\n",
    "    featuresCol=\"features\",\n",
    "    weightCol=\"weight\",\n",
    "    numTrees=100,\n",
    "    maxDepth=8,\n",
    "    seed=42\n",
    ")\n",
    "pipeline = Pipeline(stages=[toolkit, scaler, rf])\n",
    "\n",
    "# 7) Train & time\n",
    "start = time.time()\n",
    "model = pipeline.fit(train)\n",
    "print(f\"30% sample — TRAIN TIME: {time.time()-start:.2f} sec\")\n",
    "\n",
    "# 8) Save model to DBFS\n",
    "model.write().overwrite().save(\"dbfs:/FileStore/models/rf_30pct_model\")"
   ]
  },
  {
   "cell_type": "code",
   "execution_count": 0,
   "metadata": {
    "application/vnd.databricks.v1+cell": {
     "cellMetadata": {
      "byteLimit": 2048000,
      "rowLimit": 10000
     },
     "inputWidgets": {},
     "nuid": "63f2c9a9-21b2-42e1-aed1-7296114e5237",
     "showTitle": false,
     "tableResultSettingsMap": {},
     "title": ""
    }
   },
   "outputs": [
    {
     "output_type": "stream",
     "name": "stderr",
     "output_type": "stream",
     "text": [
      "/databricks/spark/python/pyspark/sql/context.py:165: FutureWarning: Deprecated in 3.0.0. Use SparkSession.builder.getOrCreate() instead.\n  warnings.warn(\n"
     ]
    },
    {
     "output_type": "stream",
     "name": "stdout",
     "output_type": "stream",
     "text": [
      "Accuracy: 0.9984\n=== Confusion Matrix ===\n[[377103.    589.]\n [     0.    506.]]\n\n=== Classification Report ===\nClass 0 — precision: 1.0000, recall: 0.9984, f1-score: 0.9992, support: 377692\nClass 1 — precision: 0.4621, recall: 1.0000, f1-score: 0.6321, support: 506\n"
     ]
    }
   ],
   "source": [
    "from pyspark.ml import PipelineModel\n",
    "from pyspark.ml.functions import vector_to_array\n",
    "from pyspark.sql.functions import when, col\n",
    "from pyspark.mllib.evaluation import MulticlassMetrics\n",
    "\n",
    "# 1) Reload the saved pipeline\n",
    "model = PipelineModel.load(\"dbfs:/FileStore/models/rf_30pct_model\")\n",
    "\n",
    "# 2) Re‐create the same sample & split to get your test set\n",
    "raw = spark.read.csv(\n",
    "    \"/FileStore/tables/Synthetic_Financial_datasets_log.csv\",\n",
    "    header=True, inferSchema=True\n",
    ")\n",
    "\n",
    "df = (raw\n",
    "      .drop(\"nameOrig\", \"nameDest\", \"isFlaggedFraud\", \"step\")\n",
    "      .withColumn(\"deltaOrig\",    col(\"oldbalanceOrg\") - col(\"newbalanceOrig\"))\n",
    "      .withColumn(\"deltaDest\",    col(\"newbalanceDest\") - col(\"oldbalanceDest\"))\n",
    "      .withColumn(\"amount_to_orig_ratio\", col(\"amount\")/(col(\"oldbalanceOrg\")+1))\n",
    "      .withColumn(\"amount_to_dest_ratio\",  col(\"amount\")/(col(\"oldbalanceDest\")+1))\n",
    ")\n",
    "si  = StringIndexer(inputCol=\"type\", outputCol=\"type_idx\", handleInvalid=\"keep\")\n",
    "df  = si.fit(df).transform(df)\n",
    "ohe = OneHotEncoder(inputCols=[\"type_idx\"], outputCols=[\"type_vec\"])\n",
    "df  = ohe.fit(df).transform(df)\n",
    "\n",
    "sample = df.stat.sampleBy(\"isFraud\", {0: 0.3, 1: 0.3}, seed=2025)\n",
    "train  = sample.stat.sampleBy(\"isFraud\", {0: 0.8, 1: 0.8}, seed=2025)\n",
    "test   = sample.subtract(train)\n",
    "\n",
    "# 3) Predict, convert vector→array then threshold\n",
    "preds = (\n",
    "    model.transform(test)\n",
    "         .withColumn(\"prob_arr\", vector_to_array(col(\"probability\")))\n",
    "         .withColumn(\"pred_label\", when(col(\"prob_arr\")[1] > 0.1, 1).otherwise(0))\n",
    ")\n",
    "\n",
    "# 4) Compute metrics\n",
    "rdd     = preds.select(\"pred_label\", \"isFraud\") \\\n",
    "               .rdd.map(lambda r: (float(r[0]), float(r[1])))\n",
    "metrics = MulticlassMetrics(rdd)\n",
    "\n",
    "# Overall accuracy\n",
    "print(f\"Accuracy: {metrics.accuracy:.4f}\")\n",
    "\n",
    "# Confusion matrix\n",
    "print(\"=== Confusion Matrix ===\")\n",
    "print(metrics.confusionMatrix().toArray())\n",
    "\n",
    "# Classification report\n",
    "labels = sorted(rdd.map(lambda x: x[1]).distinct().collect())\n",
    "support = dict(test.groupBy(\"isFraud\").count()\n",
    "                   .rdd.map(lambda r: (float(r[0]), r[1]))\n",
    "                   .collect())\n",
    "\n",
    "print(\"\\n=== Classification Report ===\")\n",
    "for lbl in labels:\n",
    "    print(\n",
    "        f\"Class {int(lbl)} — precision: {metrics.precision(lbl):.4f}, \"\n",
    "        f\"recall: {metrics.recall(lbl):.4f}, \"\n",
    "        f\"f1-score: {metrics.fMeasure(lbl):.4f}, \"\n",
    "        f\"support: {support.get(lbl,0)}\"\n",
    "    )\n"
   ]
  },
  {
   "cell_type": "code",
   "execution_count": 0,
   "metadata": {
    "application/vnd.databricks.v1+cell": {
     "cellMetadata": {
      "byteLimit": 2048000,
      "rowLimit": 10000
     },
     "inputWidgets": {},
     "nuid": "abaa6f59-9a53-4a92-af79-89a248b28b5e",
     "showTitle": false,
     "tableResultSettingsMap": {},
     "title": ""
    }
   },
   "outputs": [
    {
     "output_type": "stream",
     "name": "stdout",
     "output_type": "stream",
     "text": [
      "75% sample — TRAIN TIME: 1152.32 sec\n"
     ]
    }
   ],
   "source": [
    "from pyspark.sql.functions import col, when\n",
    "from pyspark.ml.feature import StringIndexer, OneHotEncoder, VectorAssembler, StandardScaler\n",
    "from pyspark.ml.classification import RandomForestClassifier\n",
    "from pyspark.ml import Pipeline\n",
    "import time\n",
    "\n",
    "# 1) Load raw data\n",
    "raw = spark.read.csv(\n",
    "    \"/FileStore/tables/Synthetic_Financial_datasets_log.csv\",\n",
    "    header=True, inferSchema=True\n",
    ")\n",
    "\n",
    "# 2) Preprocess & feature engineering\n",
    "df = (raw\n",
    "      .drop(\"nameOrig\", \"nameDest\", \"isFlaggedFraud\", \"step\")\n",
    "      .withColumn(\"deltaOrig\",    col(\"oldbalanceOrg\") - col(\"newbalanceOrig\"))\n",
    "      .withColumn(\"deltaDest\",    col(\"newbalanceDest\") - col(\"oldbalanceDest\"))\n",
    "      .withColumn(\"amount_to_orig_ratio\", col(\"amount\")/(col(\"oldbalanceOrg\")+1))\n",
    "      .withColumn(\"amount_to_dest_ratio\",  col(\"amount\")/(col(\"oldbalanceDest\")+1))\n",
    ")\n",
    "\n",
    "# index + one-hot encode 'type'\n",
    "si  = StringIndexer(inputCol=\"type\", outputCol=\"type_idx\", handleInvalid=\"keep\")\n",
    "df  = si.fit(df).transform(df)\n",
    "ohe = OneHotEncoder(inputCols=[\"type_idx\"], outputCols=[\"type_vec\"])\n",
    "df  = ohe.fit(df).transform(df)\n",
    "\n",
    "# 3) Stratified 75% sample then 80/20 train/test split\n",
    "sample = df.stat.sampleBy(\"isFraud\", {0: 0.75, 1: 0.75}, seed=2025)\n",
    "train  = sample.stat.sampleBy(\"isFraud\", {0: 0.8, 1: 0.8}, seed=2025)\n",
    "# (test split reserved for Cell 2)\n",
    "\n",
    "# 4) Assemble features & scale\n",
    "assembler = VectorAssembler(inputCols=[\n",
    "    'amount','oldbalanceOrg','newbalanceOrig',\n",
    "    'oldbalanceDest','newbalanceDest',\n",
    "    'deltaOrig','deltaDest',\n",
    "    'amount_to_orig_ratio','amount_to_dest_ratio',\n",
    "    'type_vec'\n",
    "], outputCol=\"rawFeatures\")\n",
    "scaler    = StandardScaler(inputCol=\"rawFeatures\", outputCol=\"features\",\n",
    "                           withStd=True, withMean=False)\n",
    "\n",
    "# 5) Compute class weights on training set\n",
    "total  = train.count()\n",
    "frauds = train.filter(col(\"isFraud\") == 1).count()\n",
    "w      = 1.0 / (frauds / total)\n",
    "train  = train.withColumn(\"weight\", when(col(\"isFraud\") == 1, w).otherwise(1.0))\n",
    "\n",
    "# 6) Random Forest classifier\n",
    "rf = RandomForestClassifier(\n",
    "    labelCol=\"isFraud\",\n",
    "    featuresCol=\"features\",\n",
    "    weightCol=\"weight\",\n",
    "    numTrees=100,\n",
    "    maxDepth=8,\n",
    "    seed=42\n",
    ")\n",
    "pipeline = Pipeline(stages=[assembler, scaler, rf])\n",
    "\n",
    "# 7) Train & time\n",
    "start = time.time()\n",
    "model = pipeline.fit(train)\n",
    "print(f\"75% sample — TRAIN TIME: {time.time() - start:.2f} sec\")\n",
    "\n",
    "# 8) Save model to DBFS\n",
    "model.write().overwrite().save(\"dbfs:/FileStore/models/rf_75pct_model\")\n"
   ]
  },
  {
   "cell_type": "code",
   "execution_count": 0,
   "metadata": {
    "application/vnd.databricks.v1+cell": {
     "cellMetadata": {
      "byteLimit": 2048000,
      "rowLimit": 10000
     },
     "inputWidgets": {},
     "nuid": "6accc0a6-a771-46c5-b264-2d25e6ab6145",
     "showTitle": false,
     "tableResultSettingsMap": {},
     "title": ""
    }
   },
   "outputs": [
    {
     "output_type": "stream",
     "name": "stdout",
     "output_type": "stream",
     "text": [
      "Accuracy: 0.9970\n=== Confusion Matrix ===\n[[931057.   2763.]\n [     0.   1187.]]\n\n=== Classification Report ===\nClass 0 — precision: 1.0000, recall:    0.9970, f1-score:  0.9985, support:   933820\nClass 1 — precision: 0.3005, recall:    1.0000, f1-score:  0.4621, support:   1187\n"
     ]
    }
   ],
   "source": [
    "from pyspark.ml import PipelineModel\n",
    "from pyspark.ml.functions import vector_to_array\n",
    "from pyspark.sql.functions import when, col\n",
    "from pyspark.mllib.evaluation import MulticlassMetrics\n",
    "\n",
    "# 1) Reload the saved pipeline\n",
    "model = PipelineModel.load(\"dbfs:/FileStore/models/rf_75pct_model\")\n",
    "\n",
    "# 2) Re-create the same 75% sample & 80/20 split to get your test set\n",
    "raw = spark.read.csv(\n",
    "    \"/FileStore/tables/Synthetic_Financial_datasets_log.csv\",\n",
    "    header=True, inferSchema=True\n",
    ")\n",
    "\n",
    "df = (raw\n",
    "      .drop(\"nameOrig\", \"nameDest\", \"isFlaggedFraud\", \"step\")\n",
    "      .withColumn(\"deltaOrig\",    col(\"oldbalanceOrg\") - col(\"newbalanceOrig\"))\n",
    "      .withColumn(\"deltaDest\",    col(\"newbalanceDest\") - col(\"oldbalanceDest\"))\n",
    "      .withColumn(\"amount_to_orig_ratio\", col(\"amount\")/(col(\"oldbalanceOrg\")+1))\n",
    "      .withColumn(\"amount_to_dest_ratio\",  col(\"amount\")/(col(\"oldbalanceDest\")+1))\n",
    ")\n",
    "si  = StringIndexer(inputCol=\"type\", outputCol=\"type_idx\", handleInvalid=\"keep\")\n",
    "df  = si.fit(df).transform(df)\n",
    "ohe = OneHotEncoder(inputCols=[\"type_idx\"], outputCols=[\"type_vec\"])\n",
    "df  = ohe.fit(df).transform(df)\n",
    "\n",
    "sample = df.stat.sampleBy(\"isFraud\", {0: 0.75, 1: 0.75}, seed=2025)\n",
    "train  = sample.stat.sampleBy(\"isFraud\", {0: 0.8, 1: 0.8}, seed=2025)\n",
    "test   = sample.subtract(train)\n",
    "\n",
    "# 3) Predict, convert vector→array then threshold\n",
    "preds = (\n",
    "    model.transform(test)\n",
    "         .withColumn(\"prob_arr\", vector_to_array(col(\"probability\")))\n",
    "         .withColumn(\"pred_label\", when(col(\"prob_arr\")[1] > 0.1, 1).otherwise(0))\n",
    ")\n",
    "\n",
    "# 4) Compute metrics\n",
    "rdd     = preds.select(\"pred_label\", \"isFraud\") \\\n",
    "               .rdd.map(lambda r: (float(r[0]), float(r[1])))\n",
    "metrics = MulticlassMetrics(rdd)\n",
    "\n",
    "# Overall accuracy\n",
    "print(f\"Accuracy: {metrics.accuracy:.4f}\")\n",
    "\n",
    "# Confusion matrix\n",
    "print(\"=== Confusion Matrix ===\")\n",
    "print(metrics.confusionMatrix().toArray())\n",
    "\n",
    "# Classification report\n",
    "labels  = sorted(rdd.map(lambda x: x[1]).distinct().collect())\n",
    "support = dict(test.groupBy(\"isFraud\").count()\n",
    "                   .rdd.map(lambda r: (float(r[0]), r[1]))\n",
    "                   .collect())\n",
    "\n",
    "print(\"\\n=== Classification Report ===\")\n",
    "for lbl in labels:\n",
    "    print(f\"Class {int(lbl)} — \"\n",
    "          f\"precision: {metrics.precision(lbl):.4f}, \"\n",
    "          f\"recall:    {metrics.recall(lbl):.4f}, \"\n",
    "          f\"f1-score:  {metrics.fMeasure(lbl):.4f}, \"\n",
    "          f\"support:   {support.get(lbl,0)}\")\n"
   ]
  },
  {
   "cell_type": "code",
   "execution_count": 0,
   "metadata": {
    "application/vnd.databricks.v1+cell": {
     "cellMetadata": {
      "byteLimit": 2048000,
      "rowLimit": 10000
     },
     "inputWidgets": {},
     "nuid": "6a53124e-7daa-4626-822f-5c4c8c8f9d0d",
     "showTitle": false,
     "tableResultSettingsMap": {},
     "title": ""
    }
   },
   "outputs": [
    {
     "output_type": "stream",
     "name": "stdout",
     "output_type": "stream",
     "text": [
      "90% sample — TRAIN TIME: 1355.86 sec\n"
     ]
    }
   ],
   "source": [
    "from pyspark.sql.functions import col, when\n",
    "from pyspark.ml.feature import StringIndexer, OneHotEncoder, VectorAssembler, StandardScaler\n",
    "from pyspark.ml.classification import RandomForestClassifier\n",
    "from pyspark.ml import Pipeline\n",
    "import time\n",
    "\n",
    "# 1) Load raw data\n",
    "raw = spark.read.csv(\n",
    "    \"/FileStore/tables/Synthetic_Financial_datasets_log.csv\",\n",
    "    header=True, inferSchema=True\n",
    ")\n",
    "\n",
    "# 2) Preprocess & feature engineering\n",
    "df = (raw\n",
    "      .drop(\"nameOrig\", \"nameDest\", \"isFlaggedFraud\", \"step\")\n",
    "      .withColumn(\"deltaOrig\",    col(\"oldbalanceOrg\") - col(\"newbalanceOrig\"))\n",
    "      .withColumn(\"deltaDest\",    col(\"newbalanceDest\") - col(\"oldbalanceDest\"))\n",
    "      .withColumn(\"amount_to_orig_ratio\", col(\"amount\")/(col(\"oldbalanceOrg\")+1))\n",
    "      .withColumn(\"amount_to_dest_ratio\",  col(\"amount\")/(col(\"oldbalanceDest\")+1))\n",
    ")\n",
    "# index & encode 'type'\n",
    "si  = StringIndexer(inputCol=\"type\", outputCol=\"type_idx\", handleInvalid=\"keep\")\n",
    "df  = si.fit(df).transform(df)\n",
    "ohe = OneHotEncoder(inputCols=[\"type_idx\"], outputCols=[\"type_vec\"])\n",
    "df  = ohe.fit(df).transform(df)\n",
    "\n",
    "# 3) Stratified 90% sample then 80/20 split\n",
    "sample = df.stat.sampleBy(\"isFraud\", {0:0.9, 1:0.9}, seed=2025)\n",
    "train  = sample.stat.sampleBy(\"isFraud\", {0:0.8, 1:0.8}, seed=2025)\n",
    "# 4) Assemble & scale\n",
    "assembler = VectorAssembler(inputCols=[\n",
    "    'amount','oldbalanceOrg','newbalanceOrig',\n",
    "    'oldbalanceDest','newbalanceDest',\n",
    "    'deltaOrig','deltaDest',\n",
    "    'amount_to_orig_ratio','amount_to_dest_ratio',\n",
    "    'type_vec'\n",
    "], outputCol=\"rawFeatures\")\n",
    "scaler    = StandardScaler(inputCol=\"rawFeatures\", outputCol=\"features\",\n",
    "                            withStd=True, withMean=False)\n",
    "\n",
    "# 5) Compute class weights\n",
    "total  = train.count()\n",
    "frauds = train.filter(col(\"isFraud\")==1).count()\n",
    "w      = 1.0/(frauds/total)\n",
    "train  = train.withColumn(\"weight\", when(col(\"isFraud\")==1, w).otherwise(1.0))\n",
    "\n",
    "# 6) RF classifier\n",
    "rf = RandomForestClassifier(\n",
    "    labelCol=\"isFraud\", featuresCol=\"features\", weightCol=\"weight\",\n",
    "    numTrees=100, maxDepth=8, seed=42\n",
    ")\n",
    "pipeline = Pipeline(stages=[assembler, scaler, rf])\n",
    "\n",
    "# 7) Train & time\n",
    "start = time.time()\n",
    "model = pipeline.fit(train)\n",
    "print(f\"90% sample — TRAIN TIME: {time.time() - start:.2f} sec\")\n",
    "\n",
    "# 8) Save model\n",
    "model.write().overwrite().save(\"dbfs:/FileStore/models/rf_90pct_model\")"
   ]
  },
  {
   "cell_type": "code",
   "execution_count": 0,
   "metadata": {
    "application/vnd.databricks.v1+cell": {
     "cellMetadata": {
      "byteLimit": 2048000,
      "rowLimit": 10000
     },
     "inputWidgets": {},
     "nuid": "eac922f3-cca3-4a79-98f4-9e1919b3c473",
     "showTitle": false,
     "tableResultSettingsMap": {},
     "title": ""
    }
   },
   "outputs": [
    {
     "output_type": "stream",
     "name": "stdout",
     "output_type": "stream",
     "text": [
      "Accuracy: 0.9953\n=== Confusion Matrix ===\n[[1.110877e+06 5.257000e+03]\n [5.000000e+00 1.471000e+03]]\n\n=== Classification Report ===\nClass 0 — precision: 1.0000, recall: 0.9953, f1-score: 0.9976, support: 1116134\nClass 1 — precision: 0.2186, recall: 0.9966, f1-score: 0.3586, support: 1476\n"
     ]
    }
   ],
   "source": [
    "from pyspark.ml import PipelineModel\n",
    "from pyspark.ml.functions import vector_to_array\n",
    "from pyspark.ml.feature import StringIndexer, OneHotEncoder\n",
    "from pyspark.sql.functions import when, col\n",
    "from pyspark.mllib.evaluation import MulticlassMetrics\n",
    "\n",
    "# 1) Load saved model\n",
    "model = PipelineModel.load(\"dbfs:/FileStore/models/rf_90pct_model\")\n",
    "\n",
    "# 2) Re-create test split\n",
    "raw = spark.read.csv(\"/FileStore/tables/Synthetic_Financial_datasets_log.csv\",\n",
    "                     header=True, inferSchema=True)\n",
    "\n",
    "df = (raw\n",
    "      .drop(\"nameOrig\",\"nameDest\",\"isFlaggedFraud\",\"step\")\n",
    "      .withColumn(\"deltaOrig\",    col(\"oldbalanceOrg\") - col(\"newbalanceOrig\"))\n",
    "      .withColumn(\"deltaDest\",    col(\"newbalanceDest\") - col(\"oldbalanceDest\"))\n",
    "      .withColumn(\"amount_to_orig_ratio\", col(\"amount\")/(col(\"oldbalanceOrg\")+1))\n",
    "      .withColumn(\"amount_to_dest_ratio\",  col(\"amount\")/(col(\"oldbalanceDest\")+1))\n",
    ")\n",
    "si  = StringIndexer(inputCol=\"type\", outputCol=\"type_idx\", handleInvalid=\"keep\")\n",
    "df  = si.fit(df).transform(df)\n",
    "ohe = OneHotEncoder(inputCols=[\"type_idx\"], outputCols=[\"type_vec\"])\n",
    "df  = ohe.fit(df).transform(df)\n",
    "\n",
    "sample = df.stat.sampleBy(\"isFraud\", {0:0.9, 1:0.9}, seed=2025)\n",
    "train  = sample.stat.sampleBy(\"isFraud\", {0:0.8, 1:0.8}, seed=2025)\n",
    "test   = sample.subtract(train)\n",
    "\n",
    "# 3) Predict & threshold\n",
    "preds = (model.transform(test)\n",
    "         .withColumn(\"prob_arr\", vector_to_array(col(\"probability\")))\n",
    "         .withColumn(\"pred_label\", when(col(\"prob_arr\")[1] > 0.1, 1).otherwise(0))\n",
    ")\n",
    "\n",
    "# 4) Metrics\n",
    "df_rdd  = preds.select(\"pred_label\",\"isFraud\").rdd.map(lambda r: (float(r[0]), float(r[1])))\n",
    "metrics = MulticlassMetrics(df_rdd)\n",
    "\n",
    "print(f\"Accuracy: {metrics.accuracy:.4f}\")\n",
    "print(\"=== Confusion Matrix ===\")\n",
    "print(metrics.confusionMatrix().toArray())\n",
    "\n",
    "# Classification report\n",
    "labels  = sorted(df_rdd.map(lambda x: x[1]).distinct().collect())\n",
    "support = dict(test.groupBy(\"isFraud\").count().rdd.map(lambda r: (float(r[0]), r[1])).collect())\n",
    "\n",
    "print(\"\\n=== Classification Report ===\")\n",
    "for lbl in labels:\n",
    "    print(f\"Class {int(lbl)} — precision: {metrics.precision(lbl):.4f}, recall: {metrics.recall(lbl):.4f}, f1-score: {metrics.fMeasure(lbl):.4f}, support: {support.get(lbl,0)}\")\n"
   ]
  },
  {
   "cell_type": "code",
   "execution_count": 0,
   "metadata": {
    "application/vnd.databricks.v1+cell": {
     "cellMetadata": {
      "byteLimit": 2048000,
      "rowLimit": 10000
     },
     "inputWidgets": {},
     "nuid": "c94e0f13-d400-49fd-a82b-3b3371f4d73b",
     "showTitle": false,
     "tableResultSettingsMap": {},
     "title": ""
    }
   },
   "outputs": [
    {
     "output_type": "display_data",
     "data": {
      "image/png": "[encoded data removed]"
     },
     "metadata": {
      "application/vnd.databricks.v1+output": {
       "addedWidgets": {},
       "arguments": {},
       "data": "data:image/png;base64,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\n",
       "datasetInfos": [],
       "metadata": {},
       "removedWidgets": [],
       "type": "image"
      }
     },
     "output_type": "display_data"
    }
   ],
   "source": [
    "import matplotlib.pyplot as plt\n",
    "t30 = 534.85  \n",
    "t50 = 854.10   \n",
    "t75 = 1152.32   \n",
    "t90 = 1355.86   \n",
    "\n",
    "data_pct   = [30, 50, 75, 90]\n",
    "train_time = [t30, t50, t75, t90]\n",
    "\n",
    "plt.figure()\n",
    "plt.plot(data_pct, train_time, marker='o')\n",
    "plt.xlabel(\"Data Sample Percentage (%)\")\n",
    "plt.ylabel(\"Training Time (seconds)\")\n",
    "plt.title(\"Random Forest Training Time vs Data Sample Percentage\")\n",
    "plt.grid(True)\n",
    "plt.show()\n"
   ]
  },
  {
   "cell_type": "code",
   "execution_count": 0,
   "metadata": {
    "application/vnd.databricks.v1+cell": {
     "cellMetadata": {
      "byteLimit": 2048000,
      "rowLimit": 10000
     },
     "inputWidgets": {},
     "nuid": "563c4f98-0dfc-4773-85bf-383ba17a6301",
     "showTitle": false,
     "tableResultSettingsMap": {},
     "title": ""
    }
   },
   "outputs": [],
   "source": [
    "#Isolation Forest"
   ]
  },
  {
   "cell_type": "code",
   "execution_count": 0,
   "metadata": {
    "application/vnd.databricks.v1+cell": {
     "cellMetadata": {
      "byteLimit": 2048000,
      "rowLimit": 10000
     },
     "inputWidgets": {},
     "nuid": "356cd29c-0e5b-4345-8696-bc3e969e1c3c",
     "showTitle": false,
     "tableResultSettingsMap": {},
     "title": ""
    }
   },
   "outputs": [
    {
     "output_type": "stream",
     "name": "stdout",
     "output_type": "stream",
     "text": [
      "IsolationForest train time: 147.30 sec\n"
     ]
    }
   ],
   "source": [
    "import time\n",
    "import numpy as np\n",
    "from pyspark.sql.functions import col\n",
    "from pyspark.ml.functions import vector_to_array\n",
    "from pyspark.ml.feature import (\n",
    "    StringIndexer,\n",
    "    OneHotEncoder,\n",
    "    VectorAssembler,\n",
    "    StandardScaler\n",
    ")\n",
    "from pyspark.ml import Pipeline\n",
    "from sklearn.ensemble import IsolationForest as SklearnIF\n",
    "\n",
    "# 1) Load and preprocess raw data\n",
    "df_raw = spark.read.csv(\n",
    "    \"/FileStore/tables/Synthetic_Financial_datasets_log.csv\",\n",
    "    header=True,\n",
    "    inferSchema=True\n",
    ")\n",
    "df = (\n",
    "    df_raw\n",
    "    .drop(\"nameOrig\", \"nameDest\", \"isFlaggedFraud\", \"step\")\n",
    "    .withColumn(\"deltaOrig\", col(\"oldbalanceOrg\") - col(\"newbalanceOrig\"))\n",
    "    .withColumn(\"deltaDest\", col(\"newbalanceDest\") - col(\"oldbalanceDest\"))\n",
    "    .withColumn(\"amount_to_orig_ratio\", col(\"amount\") / (col(\"oldbalanceOrg\") + 1))\n",
    "    .withColumn(\"amount_to_dest_ratio\", col(\"amount\") / (col(\"oldbalanceDest\") + 1))\n",
    ")\n",
    "\n",
    "# 2) Build a preprocessing pipeline: index → one-hot → assemble → scale\n",
    "si        = StringIndexer(inputCol=\"type\", outputCol=\"type_idx\", handleInvalid=\"keep\")\n",
    "ohe       = OneHotEncoder(inputCols=[\"type_idx\"], outputCols=[\"type_vec\"])\n",
    "assembler = VectorAssembler(\n",
    "    inputCols=[\n",
    "        'amount', 'oldbalanceOrg', 'newbalanceOrig',\n",
    "        'oldbalanceDest', 'newbalanceDest',\n",
    "        'deltaOrig', 'deltaDest',\n",
    "        'amount_to_orig_ratio', 'amount_to_dest_ratio',\n",
    "        'type_vec'\n",
    "    ],\n",
    "    outputCol=\"rawFeatures\"\n",
    ")\n",
    "scaler    = StandardScaler(\n",
    "    inputCol=\"rawFeatures\",\n",
    "    outputCol=\"features\",\n",
    "    withStd=True,\n",
    "    withMean=False\n",
    ")\n",
    "\n",
    "pipeline_pre = Pipeline(stages=[si, ohe, assembler, scaler])\n",
    "df_feat      = pipeline_pre.fit(df).transform(df)\n",
    "\n",
    "# 3) Stratified sample (50%) then 80/20 train-test split\n",
    "sample = df_feat.stat.sampleBy(\"isFraud\", {0: 0.5, 1: 0.5}, seed=2025)\n",
    "train, test = sample.randomSplit([0.8, 0.2], seed=2025)\n",
    "\n",
    "# 4) Convert VectorUDT → ArrayType(Double) so Arrow can serialize\n",
    "train2    = train.withColumn(\"feat_arr\", vector_to_array(\"features\"))\n",
    "pdf_train = train2.select(\"feat_arr\").toPandas()  # Arrow will succeed\n",
    "X_train   = np.vstack(pdf_train[\"feat_arr\"].to_numpy())\n",
    "\n",
    "# 5) Train sklearn IsolationForest\n",
    "iso = SklearnIF(\n",
    "    n_estimators=100,\n",
    "    contamination=0.001,\n",
    "    max_samples=\"auto\",\n",
    "    random_state=42\n",
    ")\n",
    "start = time.time()\n",
    "iso.fit(X_train)\n",
    "print(f\"IsolationForest train time: {time.time() - start:.2f} sec\")\n",
    "\n",
    "# 6) Determine anomaly threshold\n",
    "train_scores = -iso.decision_function(X_train)\n",
    "threshold    = np.percentile(train_scores, 100 * (1 - iso.contamination))\n",
    "\n",
    "# 7) Broadcast for Spark-side scoring\n",
    "b_iso    = spark.sparkContext.broadcast(iso)\n",
    "b_thresh = spark.sparkContext.broadcast(threshold)\n"
   ]
  },
  {
   "cell_type": "code",
   "execution_count": 0,
   "metadata": {
    "application/vnd.databricks.v1+cell": {
     "cellMetadata": {
      "byteLimit": 2048000,
      "rowLimit": 10000
     },
     "inputWidgets": {},
     "nuid": "cc6f7f09-7cf7-4bd6-9278-ccf59f77ae2d",
     "showTitle": false,
     "tableResultSettingsMap": {},
     "title": ""
    }
   },
   "outputs": [
    {
     "output_type": "stream",
     "name": "stdout",
     "output_type": "stream",
     "text": [
      "+--------------------+----------+-------+\n|anomaly_score       |prediction|isFraud|\n+--------------------+----------+-------+\n|-0.27079930973457916|0         |0      |\n|-0.25205633996456955|0         |0      |\n|-0.23443739669830027|0         |0      |\n|-0.3292229829940235 |0         |0      |\n|-0.31658483393002945|0         |0      |\n|-0.3099796872605338 |0         |0      |\n|-0.3261235515174455 |0         |0      |\n|-0.14060036697118283|0         |0      |\n|-0.20000351480318124|0         |0      |\n|-0.2462231679834032 |0         |0      |\n+--------------------+----------+-------+\nonly showing top 10 rows\n\n"
     ]
    }
   ],
   "source": [
    "from pyspark.sql.functions import pandas_udf, col\n",
    "from pyspark.sql.types import DoubleType, IntegerType\n",
    "import pandas as pd\n",
    "import numpy as np\n",
    "\n",
    "# 1) make sure 'features' is an ArrayType(Double) so Arrow can ship it\n",
    "from pyspark.ml.functions import vector_to_array\n",
    "test2 = test.withColumn(\"feat_arr\", vector_to_array(\"features\"))\n",
    "\n",
    "# 2) batch-score UDF\n",
    "@pandas_udf(DoubleType())\n",
    "def score_udf(vs: pd.Series) -> pd.Series:\n",
    "    # vs is a Series of lists-of-floats\n",
    "    arr = np.vstack(vs.to_numpy())\n",
    "    return pd.Series(-b_iso.value.decision_function(arr))\n",
    "\n",
    "# 3) batch-predict UDF\n",
    "@pandas_udf(IntegerType())\n",
    "def predict_udf(scores: pd.Series) -> pd.Series:\n",
    "    return (scores > b_thresh.value).astype(int)\n",
    "\n",
    "# 4) apply them\n",
    "test_scored = (\n",
    "    test2\n",
    "      .withColumn(\"anomaly_score\", score_udf(col(\"feat_arr\")))\n",
    "      .withColumn(\"prediction\",   predict_udf(col(\"anomaly_score\")))\n",
    ")\n",
    "\n",
    "test_scored.select(\"anomaly_score\", \"prediction\", \"isFraud\").show(10, False)\n"
   ]
  },
  {
   "cell_type": "code",
   "execution_count": 0,
   "metadata": {
    "application/vnd.databricks.v1+cell": {
     "cellMetadata": {
      "byteLimit": 2048000,
      "rowLimit": 10000
     },
     "inputWidgets": {},
     "nuid": "c37e2a42-812a-454c-ad66-b2337bcd743f",
     "showTitle": false,
     "tableResultSettingsMap": {},
     "title": ""
    }
   },
   "outputs": [
    {
     "output_type": "stream",
     "name": "stdout",
     "output_type": "stream",
     "text": [
      "Accuracy: 0.9978\n\nConfusion Matrix:\n[[634806    621]\n [   783     18]] \n\nClassification Report:\n              precision    recall  f1-score   support\n\n           0     0.9988    0.9990    0.9989    635427\n           1     0.0282    0.0225    0.0250       801\n\n    accuracy                         0.9978    636228\n   macro avg     0.5135    0.5107    0.5119    636228\nweighted avg     0.9975    0.9978    0.9977    636228\n\n"
     ]
    }
   ],
   "source": [
    "# Cell 3: Compute evaluation metrics\n",
    "\n",
    "# 1) Collect your Spark predictions into pandas\n",
    "pdf_results = test_scored.select(\"prediction\", \"isFraud\").toPandas()\n",
    "\n",
    "# 2) Extract numpy arrays\n",
    "y_pred = pdf_results[\"prediction\"].values\n",
    "y_true = pdf_results[\"isFraud\"].values\n",
    "\n",
    "# 3) Compute metrics\n",
    "from sklearn.metrics import accuracy_score, confusion_matrix, classification_report\n",
    "\n",
    "acc    = accuracy_score(y_true, y_pred)\n",
    "cm     = confusion_matrix(y_true, y_pred)\n",
    "report = classification_report(y_true, y_pred, digits=4)\n",
    "\n",
    "# 4) Print results\n",
    "print(f\"Accuracy: {acc:.4f}\\n\")\n",
    "print(\"Confusion Matrix:\")\n",
    "print(cm, \"\\n\")\n",
    "print(\"Classification Report:\")\n",
    "print(report)\n"
   ]
  },
  {
   "cell_type": "code",
   "execution_count": 0,
   "metadata": {
    "application/vnd.databricks.v1+cell": {
     "cellMetadata": {
      "byteLimit": 2048000,
      "rowLimit": 10000
     },
     "inputWidgets": {},
     "nuid": "f4b52d7e-274b-4083-b899-7ecb65fe24b9",
     "showTitle": false,
     "tableResultSettingsMap": {},
     "title": ""
    }
   },
   "outputs": [
    {
     "output_type": "stream",
     "name": "stdout",
     "output_type": "stream",
     "text": [
      "30%‐sample IsolationForest train time: 95.29 sec\n"
     ]
    }
   ],
   "source": [
    "import time\n",
    "import numpy as np\n",
    "from pyspark.sql.functions import col\n",
    "from pyspark.ml.functions import vector_to_array\n",
    "from pyspark.ml.feature import (\n",
    "    StringIndexer, OneHotEncoder,\n",
    "    VectorAssembler, StandardScaler\n",
    ")\n",
    "from pyspark.ml import Pipeline\n",
    "from sklearn.ensemble import IsolationForest as SklearnIF\n",
    "\n",
    "# 1) Preprocessing pipeline (same as before)\n",
    "df_raw = spark.read.csv(\n",
    "    \"/FileStore/tables/Synthetic_Financial_datasets_log.csv\",\n",
    "    header=True, inferSchema=True\n",
    ")\n",
    "df = (\n",
    "    df_raw\n",
    "    .drop(\"nameOrig\", \"nameDest\", \"isFlaggedFraud\", \"step\")\n",
    "    .withColumn(\"deltaOrig\", col(\"oldbalanceOrg\") - col(\"newbalanceOrig\"))\n",
    "    .withColumn(\"deltaDest\", col(\"newbalanceDest\") - col(\"oldbalanceDest\"))\n",
    "    .withColumn(\"amount_to_orig_ratio\", col(\"amount\")/(col(\"oldbalanceOrg\")+1))\n",
    "    .withColumn(\"amount_to_dest_ratio\", col(\"amount\")/(col(\"oldbalanceDest\")+1))\n",
    ")\n",
    "\n",
    "si        = StringIndexer(inputCol=\"type\", outputCol=\"type_idx\", handleInvalid=\"keep\")\n",
    "ohe       = OneHotEncoder(inputCols=[\"type_idx\"], outputCols=[\"type_vec\"])\n",
    "assembler = VectorAssembler(\n",
    "    inputCols=[\n",
    "      'amount','oldbalanceOrg','newbalanceOrig',\n",
    "      'oldbalanceDest','newbalanceDest',\n",
    "      'deltaOrig','deltaDest',\n",
    "      'amount_to_orig_ratio','amount_to_dest_ratio',\n",
    "      'type_vec'\n",
    "    ],\n",
    "    outputCol=\"rawFeatures\"\n",
    ")\n",
    "scaler    = StandardScaler(inputCol=\"rawFeatures\", outputCol=\"features\",\n",
    "                            withStd=True, withMean=False)\n",
    "\n",
    "pipeline_pre = Pipeline(stages=[si, ohe, assembler, scaler])\n",
    "df_feat      = pipeline_pre.fit(df).transform(df)\n",
    "\n",
    "# 2) **Stratified 30% sample**, then 80/20 train/test split\n",
    "sample30 = df_feat.stat.sampleBy(\"isFraud\", {0: 0.3, 1: 0.3}, seed=2025)\n",
    "train30, test30 = sample30.randomSplit([0.8, 0.2], seed=2025)\n",
    "\n",
    "# 3) Convert VectorUDT → ArrayType so Arrow can serialize, collect into pandas\n",
    "train30_arr = train30.withColumn(\"feat_arr\", vector_to_array(\"features\"))\n",
    "pdf_train30 = train30_arr.select(\"feat_arr\").toPandas()\n",
    "X_train30   = np.vstack(pdf_train30[\"feat_arr\"].to_numpy())\n",
    "\n",
    "# 4) Train sklearn IsolationForest on your 30% sample\n",
    "iso30 = SklearnIF(\n",
    "    n_estimators=100,\n",
    "    contamination=0.001,   # or tune to 0.01 if your true fraud rate is ~1%\n",
    "    max_samples=\"auto\",\n",
    "    random_state=42\n",
    ")\n",
    "start = time.time()\n",
    "iso30.fit(X_train30)\n",
    "print(f\"30%‐sample IsolationForest train time: {time.time() - start:.2f} sec\")\n",
    "\n",
    "# 5) Threshold & broadcast (for downstream Spark scoring)\n",
    "train_scores30 = -iso30.decision_function(X_train30)\n",
    "threshold30    = np.percentile(train_scores30, 100 * (1 - iso30.contamination))\n",
    "b_iso30        = spark.sparkContext.broadcast(iso30)\n",
    "b_thresh30     = spark.sparkContext.broadcast(threshold30)\n"
   ]
  },
  {
   "cell_type": "code",
   "execution_count": 0,
   "metadata": {
    "application/vnd.databricks.v1+cell": {
     "cellMetadata": {
      "byteLimit": 2048000,
      "rowLimit": 10000
     },
     "inputWidgets": {},
     "nuid": "2af310e2-8aac-4cf5-ba1b-c5f9f6ee96c9",
     "showTitle": false,
     "tableResultSettingsMap": {},
     "title": ""
    }
   },
   "outputs": [
    {
     "output_type": "display_data",
     "data": {
      "application/vnd.databricks.v1+bamboolib_hint": "{\"pd.DataFrames\": [\"pdf_train30\"], \"version\": \"0.0.1\"}",
      "text/plain": []
     },
     "metadata": {},
     "output_type": "display_data"
    },
    {
     "output_type": "stream",
     "name": "stdout",
     "output_type": "stream",
     "text": [
      "Accuracy: 0.9980\n\nConfusion Matrix:\n[[380759    362]\n [   419     12]] \n\nClassification Report:\n              precision    recall  f1-score   support\n\n           0     0.9989    0.9991    0.9990    381121\n           1     0.0321    0.0278    0.0298       431\n\n    accuracy                         0.9980    381552\n   macro avg     0.5155    0.5134    0.5144    381552\nweighted avg     0.9978    0.9980    0.9979    381552\n\n"
     ]
    }
   ],
   "source": [
    "# Cell 2 — SCORE & EVALUATE ON 30% SAMPLE\n",
    "\n",
    "from pyspark.sql.functions import pandas_udf, col\n",
    "from pyspark.sql.types import DoubleType, IntegerType\n",
    "import pandas as pd\n",
    "import numpy as np\n",
    "from sklearn.metrics import accuracy_score, confusion_matrix, classification_report\n",
    "\n",
    "# 1) Convert features to primitive array for Arrow\n",
    "test30_arr = test30.withColumn(\"feat_arr\", vector_to_array(\"features\"))\n",
    "\n",
    "# 2) Define vectorized (Pandas) UDFs for scoring & prediction\n",
    "@pandas_udf(DoubleType())\n",
    "def score_udf(vs: pd.Series) -> pd.Series:\n",
    "    arr = np.vstack(vs.to_numpy())\n",
    "    # sklearn decision_function: higher = more “normal”, so negate\n",
    "    return pd.Series(-b_iso30.value.decision_function(arr))\n",
    "\n",
    "@pandas_udf(IntegerType())\n",
    "def predict_udf(scores: pd.Series) -> pd.Series:\n",
    "    return (scores > b_thresh30.value).astype(int)\n",
    "\n",
    "# 3) Apply UDFs to get anomaly scores & binary predictions\n",
    "test_scored30 = (\n",
    "    test30_arr\n",
    "      .withColumn(\"anomaly_score\", score_udf(col(\"feat_arr\")))\n",
    "      .withColumn(\"prediction\",    predict_udf(col(\"anomaly_score\")))\n",
    ")\n",
    "\n",
    "# 4) Collect results to pandas for metric computation\n",
    "pdf_results30 = test_scored30.select(\"prediction\", \"isFraud\").toPandas()\n",
    "y_pred30 = pdf_results30[\"prediction\"].values\n",
    "y_true30 = pdf_results30[\"isFraud\"].values\n",
    "\n",
    "# 5) Compute & print classification metrics\n",
    "acc    = accuracy_score(y_true30, y_pred30)\n",
    "cm     = confusion_matrix(y_true30, y_pred30)\n",
    "report = classification_report(y_true30, y_pred30, digits=4)\n",
    "\n",
    "print(f\"Accuracy: {acc:.4f}\\n\")\n",
    "print(\"Confusion Matrix:\")\n",
    "print(cm, \"\\n\")\n",
    "print(\"Classification Report:\")\n",
    "print(report)\n"
   ]
  },
  {
   "cell_type": "code",
   "execution_count": 0,
   "metadata": {
    "application/vnd.databricks.v1+cell": {
     "cellMetadata": {
      "byteLimit": 2048000,
      "rowLimit": 10000
     },
     "inputWidgets": {},
     "nuid": "42dfcfff-810c-4eff-95cb-c3a3afe031ca",
     "showTitle": false,
     "tableResultSettingsMap": {},
     "title": ""
    }
   },
   "outputs": [
    {
     "output_type": "stream",
     "name": "stdout",
     "output_type": "stream",
     "text": [
      "75%‐sample IsolationForest train time: 253.09 sec\n"
     ]
    }
   ],
   "source": [
    "# Cell 1 — PREPROCESS & TRAIN IsolationForest on 75% SAMPLE\n",
    "\n",
    "import time\n",
    "import numpy as np\n",
    "from pyspark.sql.functions import col\n",
    "from pyspark.ml.functions import vector_to_array\n",
    "from pyspark.ml.feature import (\n",
    "    StringIndexer, OneHotEncoder,\n",
    "    VectorAssembler, StandardScaler\n",
    ")\n",
    "from pyspark.ml import Pipeline\n",
    "from sklearn.ensemble import IsolationForest as SklearnIF\n",
    "\n",
    "# 1) Load and preprocess raw data\n",
    "df_raw = spark.read.csv(\n",
    "    \"/FileStore/tables/Synthetic_Financial_datasets_log.csv\",\n",
    "    header=True, inferSchema=True\n",
    ")\n",
    "df = (\n",
    "    df_raw\n",
    "    .drop(\"nameOrig\", \"nameDest\", \"isFlaggedFraud\", \"step\")\n",
    "    .withColumn(\"deltaOrig\", col(\"oldbalanceOrg\") - col(\"newbalanceOrig\"))\n",
    "    .withColumn(\"deltaDest\", col(\"newbalanceDest\") - col(\"oldbalanceDest\"))\n",
    "    .withColumn(\"amount_to_orig_ratio\", col(\"amount\")/(col(\"oldbalanceOrg\")+1))\n",
    "    .withColumn(\"amount_to_dest_ratio\",  col(\"amount\")/(col(\"oldbalanceDest\")+1))\n",
    ")\n",
    "\n",
    "# 2) Build preprocessing pipeline (index → one-hot → assemble → scale)\n",
    "si         = StringIndexer(inputCol=\"type\", outputCol=\"type_idx\", handleInvalid=\"keep\")\n",
    "ohe        = OneHotEncoder(inputCols=[\"type_idx\"], outputCols=[\"type_vec\"])\n",
    "assembler  = VectorAssembler(\n",
    "    inputCols=[\n",
    "        'amount','oldbalanceOrg','newbalanceOrig',\n",
    "        'oldbalanceDest','newbalanceDest',\n",
    "        'deltaOrig','deltaDest',\n",
    "        'amount_to_orig_ratio','amount_to_dest_ratio',\n",
    "        'type_vec'\n",
    "    ],\n",
    "    outputCol=\"rawFeatures\"\n",
    ")\n",
    "scaler     = StandardScaler(inputCol=\"rawFeatures\", outputCol=\"features\",\n",
    "                            withStd=True, withMean=False)\n",
    "pipeline_pre = Pipeline(stages=[si, ohe, assembler, scaler])\n",
    "df_feat      = pipeline_pre.fit(df).transform(df)\n",
    "\n",
    "# 3) Stratified 75% sample and then 80/20 train/test split\n",
    "sample75 = df_feat.stat.sampleBy(\"isFraud\", {0: 0.75, 1: 0.75}, seed=2025)\n",
    "train75, test75 = sample75.randomSplit([0.8, 0.2], seed=2025)\n",
    "\n",
    "# 4) Convert VectorUDT → ArrayType so Arrow can serialize, collect into pandas\n",
    "train75_arr = train75.withColumn(\"feat_arr\", vector_to_array(\"features\"))\n",
    "pdf_train75 = train75_arr.select(\"feat_arr\").toPandas()\n",
    "X_train75   = np.vstack(pdf_train75[\"feat_arr\"].to_numpy())\n",
    "\n",
    "# 5) Train sklearn IsolationForest on 75% sample\n",
    "iso75 = SklearnIF(\n",
    "    n_estimators=100,\n",
    "    contamination=0.001,    # adjust if your anomaly rate differs\n",
    "    max_samples=\"auto\",\n",
    "    random_state=42\n",
    ")\n",
    "start = time.time()\n",
    "iso75.fit(X_train75)\n",
    "print(f\"75%‐sample IsolationForest train time: {time.time() - start:.2f} sec\")\n",
    "\n",
    "# 6) Determine threshold & broadcast for Spark scoring\n",
    "train_scores75 = -iso75.decision_function(X_train75)\n",
    "threshold75    = np.percentile(train_scores75, 100 * (1 - iso75.contamination))\n",
    "b_iso75        = spark.sparkContext.broadcast(iso75)\n",
    "b_thresh75     = spark.sparkContext.broadcast(threshold75)\n"
   ]
  },
  {
   "cell_type": "code",
   "execution_count": 0,
   "metadata": {
    "application/vnd.databricks.v1+cell": {
     "cellMetadata": {
      "byteLimit": 2048000,
      "rowLimit": 10000
     },
     "inputWidgets": {},
     "nuid": "810dc3fa-6538-4059-828a-4ca535296a8b",
     "showTitle": false,
     "tableResultSettingsMap": {},
     "title": ""
    }
   },
   "outputs": [
    {
     "output_type": "stream",
     "name": "stdout",
     "output_type": "stream",
     "text": [
      "Accuracy: 0.9978\n\nConfusion Matrix:\n[[952576    929]\n [  1214     83]] \n\nClassification Report:\n              precision    recall  f1-score   support\n\n           0     0.9987    0.9990    0.9989    953505\n           1     0.0820    0.0640    0.0719      1297\n\n    accuracy                         0.9978    954802\n   macro avg     0.5404    0.5315    0.5354    954802\nweighted avg     0.9975    0.9978    0.9976    954802\n\n"
     ]
    }
   ],
   "source": [
    "# Cell 2 — SCORE & EVALUATE ON 75% SAMPLE\n",
    "\n",
    "from pyspark.sql.functions import pandas_udf, col\n",
    "from pyspark.sql.types import DoubleType, IntegerType\n",
    "from pyspark.ml.functions import vector_to_array\n",
    "import pandas as pd\n",
    "import numpy as np\n",
    "from sklearn.metrics import accuracy_score, confusion_matrix, classification_report\n",
    "\n",
    "# 1) Convert features to primitive array for Arrow\n",
    "test75_arr = test75.withColumn(\"feat_arr\", vector_to_array(\"features\"))\n",
    "\n",
    "# 2) Define vectorized UDFs for scoring & prediction\n",
    "@pandas_udf(DoubleType())\n",
    "def score_udf(vs: pd.Series) -> pd.Series:\n",
    "    arr = np.vstack(vs.to_numpy())\n",
    "    # sklearn’s decision_function: higher = more “normal”, so negate for anomaly\n",
    "    return pd.Series(-b_iso75.value.decision_function(arr))\n",
    "\n",
    "@pandas_udf(IntegerType())\n",
    "def predict_udf(scores: pd.Series) -> pd.Series:\n",
    "    return (scores > b_thresh75.value).astype(int)\n",
    "\n",
    "# 3) Apply UDFs to get anomaly scores & binary predictions\n",
    "test_scored75 = (\n",
    "    test75_arr\n",
    "      .withColumn(\"anomaly_score\", score_udf(col(\"feat_arr\")))\n",
    "      .withColumn(\"prediction\",    predict_udf(col(\"anomaly_score\")))\n",
    ")\n",
    "\n",
    "# 4) Collect results to pandas for metric computation\n",
    "pdf_results75 = test_scored75.select(\"prediction\", \"isFraud\").toPandas()\n",
    "y_pred75 = pdf_results75[\"prediction\"].values\n",
    "y_true75 = pdf_results75[\"isFraud\"].values\n",
    "\n",
    "# 5) Compute & print classification metrics\n",
    "acc75    = accuracy_score(y_true75, y_pred75)\n",
    "cm75     = confusion_matrix(y_true75, y_pred75)\n",
    "report75 = classification_report(y_true75, y_pred75, digits=4)\n",
    "\n",
    "print(f\"Accuracy: {acc75:.4f}\\n\")\n",
    "print(\"Confusion Matrix:\")\n",
    "print(cm75, \"\\n\")\n",
    "print(\"Classification Report:\")\n",
    "print(report75)\n"
   ]
  },
  {
   "cell_type": "code",
   "execution_count": 0,
   "metadata": {
    "application/vnd.databricks.v1+cell": {
     "cellMetadata": {
      "byteLimit": 2048000,
      "rowLimit": 10000
     },
     "inputWidgets": {},
     "nuid": "2c8e1349-b0dc-485b-8000-673703f1825a",
     "showTitle": false,
     "tableResultSettingsMap": {},
     "title": ""
    }
   },
   "outputs": [
    {
     "output_type": "stream",
     "name": "stdout",
     "output_type": "stream",
     "text": [
      "90%-sample IsolationForest train time: 294.41 sec\n"
     ]
    }
   ],
   "source": [
    "# Cell 1 — PREPROCESS & TRAIN IsolationForest on 90% SAMPLE\n",
    "\n",
    "import time\n",
    "import numpy as np\n",
    "from pyspark.sql.functions import col\n",
    "from pyspark.ml.functions import vector_to_array\n",
    "from pyspark.ml.feature import (\n",
    "    StringIndexer, OneHotEncoder,\n",
    "    VectorAssembler, StandardScaler\n",
    ")\n",
    "from pyspark.ml import Pipeline\n",
    "from sklearn.ensemble import IsolationForest as SklearnIF\n",
    "\n",
    "# 1) Load and preprocess raw data\n",
    "df_raw = spark.read.csv(\n",
    "    \"/FileStore/tables/Synthetic_Financial_datasets_log.csv\",\n",
    "    header=True, inferSchema=True\n",
    ")\n",
    "df = (\n",
    "    df_raw\n",
    "    .drop(\"nameOrig\", \"nameDest\", \"isFlaggedFraud\", \"step\")\n",
    "    .withColumn(\"deltaOrig\", col(\"oldbalanceOrg\") - col(\"newbalanceOrig\"))\n",
    "    .withColumn(\"deltaDest\", col(\"newbalanceDest\") - col(\"oldbalanceDest\"))\n",
    "    .withColumn(\"amount_to_orig_ratio\", col(\"amount\")/(col(\"oldbalanceOrg\")+1))\n",
    "    .withColumn(\"amount_to_dest_ratio\", col(\"amount\")/(col(\"oldbalanceDest\")+1))\n",
    ")\n",
    "\n",
    "# 2) Build preprocessing pipeline (index → one-hot → assemble → scale)\n",
    "si         = StringIndexer(inputCol=\"type\", outputCol=\"type_idx\", handleInvalid=\"keep\")\n",
    "ohe        = OneHotEncoder(inputCols=[\"type_idx\"], outputCols=[\"type_vec\"])\n",
    "assembler  = VectorAssembler(\n",
    "    inputCols=[\n",
    "        'amount','oldbalanceOrg','newbalanceOrig',\n",
    "        'oldbalanceDest','newbalanceDest',\n",
    "        'deltaOrig','deltaDest',\n",
    "        'amount_to_orig_ratio','amount_to_dest_ratio',\n",
    "        'type_vec'\n",
    "    ],\n",
    "    outputCol=\"rawFeatures\"\n",
    ")\n",
    "scaler     = StandardScaler(inputCol=\"rawFeatures\", outputCol=\"features\",\n",
    "                            withStd=True, withMean=False)\n",
    "pipeline_pre = Pipeline(stages=[si, ohe, assembler, scaler])\n",
    "df_feat      = pipeline_pre.fit(df).transform(df)\n",
    "\n",
    "# 3) Stratified 90% sample, then 80/20 train/test split\n",
    "sample90 = df_feat.stat.sampleBy(\"isFraud\", {0: 0.9, 1: 0.9}, seed=2025)\n",
    "train90, test90 = sample90.randomSplit([0.8, 0.2], seed=2025)\n",
    "\n",
    "# 4) Convert features and collect into pandas\n",
    "train90_arr = train90.withColumn(\"feat_arr\", vector_to_array(\"features\"))\n",
    "pdf_train90 = train90_arr.select(\"feat_arr\").toPandas()\n",
    "X_train90   = np.vstack(pdf_train90[\"feat_arr\"].to_numpy())\n",
    "\n",
    "# 5) Train sklearn IsolationForest on 90% sample\n",
    "iso90 = SklearnIF(\n",
    "    n_estimators=100,\n",
    "    contamination=0.001,    # adjust to your true anomaly rate\n",
    "    max_samples=\"auto\",\n",
    "    random_state=42\n",
    ")\n",
    "start = time.time()\n",
    "iso90.fit(X_train90)\n",
    "print(f\"90%-sample IsolationForest train time: {time.time() - start:.2f} sec\")\n",
    "\n",
    "# 6) Determine threshold & broadcast for downstream scoring\n",
    "train_scores90 = -iso90.decision_function(X_train90)\n",
    "threshold90    = np.percentile(train_scores90, 100 * (1 - iso90.contamination))\n",
    "b_iso90        = spark.sparkContext.broadcast(iso90)\n",
    "b_thresh90     = spark.sparkContext.broadcast(threshold90)\n"
   ]
  },
  {
   "cell_type": "code",
   "execution_count": 0,
   "metadata": {
    "application/vnd.databricks.v1+cell": {
     "cellMetadata": {
      "byteLimit": 2048000,
      "rowLimit": 10000
     },
     "inputWidgets": {},
     "nuid": "d6ed59c7-a150-4ce1-9780-488589dfdfb5",
     "showTitle": false,
     "tableResultSettingsMap": {},
     "title": ""
    }
   },
   "outputs": [
    {
     "output_type": "stream",
     "name": "stdout",
     "output_type": "stream",
     "text": [
      "Accuracy: 0.9978\n\nConfusion Matrix:\n[[1142944    1084]\n [   1404      74]] \n\nClassification Report:\n              precision    recall  f1-score   support\n\n           0     0.9988    0.9991    0.9989   1144028\n           1     0.0639    0.0501    0.0561      1478\n\n    accuracy                         0.9978   1145506\n   macro avg     0.5313    0.5246    0.5275   1145506\nweighted avg     0.9976    0.9978    0.9977   1145506\n\n"
     ]
    }
   ],
   "source": [
    "# Cell 2 — SCORE & EVALUATE ON 90% SAMPLE\n",
    "\n",
    "from pyspark.sql.functions import pandas_udf, col\n",
    "from pyspark.sql.types import DoubleType, IntegerType\n",
    "from pyspark.ml.functions import vector_to_array\n",
    "import pandas as pd\n",
    "import numpy as np\n",
    "from sklearn.metrics import accuracy_score, confusion_matrix, classification_report\n",
    "\n",
    "# 1) Convert features to primitive array for Arrow\n",
    "test90_arr = test90.withColumn(\"feat_arr\", vector_to_array(\"features\"))\n",
    "\n",
    "# 2) Define Pandas UDFs for scoring & prediction\n",
    "@pandas_udf(DoubleType())\n",
    "def score_udf(vs: pd.Series) -> pd.Series:\n",
    "    arr = np.vstack(vs.to_numpy())\n",
    "    # sklearn decision_function: higher = more “normal”, so negate for anomaly\n",
    "    return pd.Series(-b_iso90.value.decision_function(arr))\n",
    "\n",
    "@pandas_udf(IntegerType())\n",
    "def predict_udf(scores: pd.Series) -> pd.Series:\n",
    "    return (scores > b_thresh90.value).astype(int)\n",
    "\n",
    "# 3) Apply UDFs to get anomaly scores & binary predictions\n",
    "test_scored90 = (\n",
    "    test90_arr\n",
    "      .withColumn(\"anomaly_score\", score_udf(col(\"feat_arr\")))\n",
    "      .withColumn(\"prediction\",    predict_udf(col(\"anomaly_score\")))\n",
    ")\n",
    "\n",
    "# 4) Collect results to pandas for metric computation\n",
    "pdf_results90 = test_scored90.select(\"prediction\", \"isFraud\").toPandas()\n",
    "y_pred90 = pdf_results90[\"prediction\"].values\n",
    "y_true90 = pdf_results90[\"isFraud\"].values\n",
    "\n",
    "# 5) Compute & print classification metrics\n",
    "acc90    = accuracy_score(y_true90, y_pred90)\n",
    "cm90     = confusion_matrix(y_true90, y_pred90)\n",
    "report90 = classification_report(y_true90, y_pred90, digits=4)\n",
    "\n",
    "print(f\"Accuracy: {acc90:.4f}\\n\")\n",
    "print(\"Confusion Matrix:\")\n",
    "print(cm90, \"\\n\")\n",
    "print(\"Classification Report:\")\n",
    "print(report90)\n"
   ]
  },
  {
   "cell_type": "code",
   "execution_count": 0,
   "metadata": {
    "application/vnd.databricks.v1+cell": {
     "cellMetadata": {
      "byteLimit": 2048000,
      "rowLimit": 10000
     },
     "inputWidgets": {},
     "nuid": "c563cf5e-499b-4974-836d-79798da001cf",
     "showTitle": false,
     "tableResultSettingsMap": {},
     "title": ""
    }
   },
   "outputs": [
    {
     "output_type": "display_data",
     "data": {
      "image/png": "[encoded data removed]"
     },
     "metadata": {
      "application/vnd.databricks.v1+output": {
       "addedWidgets": {},
       "arguments": {},
       "data": "data:image/png;base64,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\n",
       "datasetInfos": [],
       "metadata": {},
       "removedWidgets": [],
       "type": "image"
      }
     },
     "output_type": "display_data"
    }
   ],
   "source": [
    "import matplotlib.pyplot as plt\n",
    "t30 =  95.29\n",
    "t50 =  147.50\n",
    "t75 =  253.09\n",
    "t90 =  300\n",
    "\n",
    "data_pct   = [30, 50, 75, 90]\n",
    "train_time = [t30, t50, t75, t90]\n",
    "\n",
    "plt.figure()\n",
    "plt.plot(data_pct, train_time, marker='o')\n",
    "plt.xlabel(\"Data Sample Percentage (%)\")\n",
    "plt.ylabel(\"Training Time (seconds)\")\n",
    "plt.title(\"Isolation Forest Training Time vs Data Sample Percentage\")\n",
    "plt.grid(True)\n",
    "plt.show()\n"
   ]
  },
  {
   "cell_type": "code",
   "execution_count": 0,
   "metadata": {
    "application/vnd.databricks.v1+cell": {
     "cellMetadata": {},
     "inputWidgets": {},
     "nuid": "d398eaff-8b06-4def-ab11-097c1efb8118",
     "showTitle": false,
     "tableResultSettingsMap": {},
     "title": ""
    }
   },
   "outputs": [],
   "source": []
  }
 ],
 "metadata": {
  "application/vnd.databricks.v1+notebook": {
   "computePreferences": null,
   "dashboards": [],
   "environmentMetadata": {
    "base_environment": "",
    "environment_version": "1"
   },
   "inputWidgetPreferences": null,
   "language": "python",
   "notebookMetadata": {
    "pythonIndentUnit": 4
   },
   "notebookName": "Final_Project",
   "widgets": {}
  }
 },
 "nbformat": 4,
 "nbformat_minor": 0
}